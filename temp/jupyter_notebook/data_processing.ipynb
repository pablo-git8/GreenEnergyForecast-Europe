{
 "cells": [
  {
   "cell_type": "markdown",
   "id": "e3c7ee1e",
   "metadata": {},
   "source": [
    "<center>\n",
    "<font style=\"font-family: 'Helvetica'\" color=\"black\" size=\"5\">\n",
    "<b>Schneider Electric European Hackaton 2023 </b><br>\n",
    "</font>\n",
    "<br>\n",
    "</center>"
   ]
  },
  {
   "cell_type": "markdown",
   "id": "3b2bcc21",
   "metadata": {},
   "source": [
    "<font style=\"font-family: 'Helvetica'\" color=\"black\" size=\"4\">\n",
    "    <b>Machine Dreamers Team </b><br>\n",
    "</font>\n",
    "<br>\n",
    "\n",
    "\n",
    "<font style=\"font-family: 'Helvetica'\" color=\"black\" size=\"2\">\n",
    "<b>\n",
    "Daniel Espinoza <br>\n",
    "Juan Neuenschwander <br>\n",
    "Pablo Ruiz<br>\n",
    "    </b>   \n",
    "</font>\n",
    "\n",
    "    \n",
    "\n",
    "    \n",
    "\n"
   ]
  },
  {
   "cell_type": "markdown",
   "id": "a4ce92ee-4128-4ce7-bda5-91fe8dc86643",
   "metadata": {},
   "source": [
    "The following, a general analysis will be carried out for the given input files, in this case, the files related to renewable energy generation and load. Additionally, two files (one for load and one for generation) will be read to analyze their composition separately."
   ]
  },
  {
   "cell_type": "markdown",
   "id": "9107573d",
   "metadata": {},
   "source": [
    "<center>\n",
    "\n",
    "# Data Processing\n",
    "    \n",
    "</center>\n"
   ]
  },
  {
   "cell_type": "code",
   "execution_count": 291,
   "id": "df1bb7b4",
   "metadata": {},
   "outputs": [],
   "source": [
    "# Setting up libraries\n",
    "#!pip install pandas\n",
    "#!pip install json"
   ]
  },
  {
   "cell_type": "code",
   "execution_count": 292,
   "id": "c4c33f2e",
   "metadata": {},
   "outputs": [],
   "source": [
    "# Imports\n",
    "import os\n",
    "import pandas as pd\n",
    "import re\n",
    "import json\n",
    "import matplotlib.pyplot as plt\n",
    "from functools import reduce"
   ]
  },
  {
   "cell_type": "markdown",
   "id": "378bbdfc",
   "metadata": {},
   "source": [
    "### Reading CSV Files"
   ]
  },
  {
   "cell_type": "markdown",
   "id": "c6ef67a8",
   "metadata": {},
   "source": [
    "First, we need to define the folder that contains every .csv file we want to read. This folder will include every file downloaded by the data ingestion code."
   ]
  },
  {
   "cell_type": "code",
   "execution_count": 293,
   "id": "e887fe67",
   "metadata": {},
   "outputs": [],
   "source": [
    "#Directory where raw CSV datasets are stored\n",
    "directory = \"../jupyter_notebook/data_samples\""
   ]
  },
  {
   "cell_type": "markdown",
   "id": "ea8bd1de",
   "metadata": {},
   "source": [
    "We retrieve information to examine the datasets that the data ingestion code is downloading."
   ]
  },
  {
   "cell_type": "code",
   "execution_count": 294,
   "id": "844341dc",
   "metadata": {},
   "outputs": [
    {
     "name": "stdout",
     "output_type": "stream",
     "text": [
      "-----\u001b[1mFiles Information\u001b[0m-----\n",
      "Total Files \"gen\": 105\n",
      "Total Files \"load\": 9\n",
      "\n",
      "-----\u001b[1mCountries Information\u001b[0m-----\n",
      "Number of countries: 9\n",
      "Countries: ['PO', 'DK', 'UK', 'DE', 'SP', 'HU', 'IT', 'NE', 'SE'] \n",
      "\n",
      "-----\u001b[1mEnergy Type Information\u001b[0m-----\n",
      "Number of energy type: 20\n",
      "Energy Type: ['B05', 'B08', 'B20', 'B07', 'B19', 'B16', 'B13', 'B17', 'B06', 'B15', 'B01', 'B02', 'B10', 'B14', 'B12', 'B09', 'B03', 'B04', 'B11', 'B18']\n"
     ]
    }
   ],
   "source": [
    "#Counters\n",
    "counter_gen = 0\n",
    "counter_load = 0\n",
    "\n",
    "#Reading all .csv files in the specified directory. \n",
    "files = [archivo for archivo in os.listdir(directory) if archivo.endswith('.csv')]\n",
    "\n",
    "# Itera sobre los archivos y cuenta según el prefijo\n",
    "for file in files:\n",
    "    if file.startswith('gen'):\n",
    "        counter_gen += 1\n",
    "    elif file.startswith('load'):\n",
    "        counter_load += 1\n",
    "\n",
    "unique_countries = set()\n",
    "unique_type_energy = set()\n",
    "\n",
    "# Itera sobre los archivos y extrae información\n",
    "for file in files:\n",
    "    if file.startswith('gen'):\n",
    "        # Divide el nombre del archivo en partes usando '_' como separador\n",
    "        parts = file.split('_')\n",
    "        \n",
    "        # Asegúrate de que haya suficientes partes y que el formato sea correcto\n",
    "        if len(parts) == 3 and parts[0] == 'gen':\n",
    "            country = parts[1]\n",
    "            energy_tpye = parts[2].split('.')[0]  # Elimina la extensión .csv\n",
    "            unique_countries.add(country)\n",
    "            unique_type_energy.add(energy_tpye)\n",
    "\n",
    "# Imprime los resultados\n",
    "print(\"-----\"+\"\\033[1m\" +\"Files Information\" + \"\\033[0m\"+\"-----\")\n",
    "print(f'Total Files \"gen\": {counter_gen}')\n",
    "print(f'Total Files \"load\": {counter_load}'+\"\\n\")\n",
    "print(\"-----\"+\"\\033[1m\" +\"Countries Information\" + \"\\033[0m\"+\"-----\")\n",
    "print('Number of countries:', len(list(unique_countries)))\n",
    "print('Countries:', list(unique_countries),\"\\n\")\n",
    "print(\"-----\"+\"\\033[1m\" +\"Energy Type Information\" + \"\\033[0m\"+\"-----\")\n",
    "print('Number of energy type:', len(list(unique_type_energy)))\n",
    "print('Energy Type:', list(unique_type_energy))\n"
   ]
  },
  {
   "cell_type": "markdown",
   "id": "eb523464",
   "metadata": {},
   "source": [
    "As seen above, there are multiple files for generation and nine for load. We can infer that the generation is categorized by the type of energy (20 types of energy datasets) and countries (9 countries)."
   ]
  },
  {
   "cell_type": "markdown",
   "id": "86f394dc",
   "metadata": {},
   "source": [
    "### Initial Exploration Data Analysis - Generation Files"
   ]
  },
  {
   "cell_type": "markdown",
   "id": "6d23669f",
   "metadata": {},
   "source": [
    "We know that to obtain the number of complete hourly data points for a year, according to the dataset's periodicity, we will need the data quantity as indicated in the following table:"
   ]
  },
  {
   "cell_type": "markdown",
   "id": "e4c1a494",
   "metadata": {},
   "source": [
    "| Number of Samples | Periodicity |\n",
    "|:---------:|:--------:|\n",
    "|  35,040 | 15 minutes |\n",
    "|  17,462 | 30 minutes | \n",
    "|  8,760  | 60 minutes | \n",
    "\n"
   ]
  },
  {
   "cell_type": "markdown",
   "id": "3ee27fa5",
   "metadata": {},
   "source": [
    "We read one of the files as an example to show how the exploration was."
   ]
  },
  {
   "cell_type": "code",
   "execution_count": 295,
   "id": "e04b997e",
   "metadata": {},
   "outputs": [],
   "source": [
    "# Reading one specific sample\n",
    "filename='gen_DE_B19'\n",
    "\n",
    "sample = pd.read_csv(f\"../jupyter_notebook/data_samples/{filename}.csv\")\n",
    "\n",
    "# We save the name of country and type of energy from the filename.\n",
    "_, country, energy_type = filename.split('_')\n",
    "energy_type = energy_type.replace('.csv', '') # Remove the file extension"
   ]
  },
  {
   "cell_type": "code",
   "execution_count": 296,
   "id": "d318da73",
   "metadata": {},
   "outputs": [],
   "source": [
    "#We create two columns to indentify the country and type of energy\n",
    "sample['CountryCode'] = country\n",
    "sample['EnergyTypeCode'] = energy_type"
   ]
  },
  {
   "cell_type": "markdown",
   "id": "2c22b03f",
   "metadata": {},
   "source": [
    "When we see the number of rows, we can notice that we have the double of rows neccesary for having complete information for 15 minutes periodicity, so we can infer that the whole data is duplicateed."
   ]
  },
  {
   "cell_type": "code",
   "execution_count": 297,
   "id": "d0bd6caf",
   "metadata": {},
   "outputs": [
    {
     "data": {
      "text/plain": [
       "(70080, 8)"
      ]
     },
     "execution_count": 297,
     "metadata": {},
     "output_type": "execute_result"
    }
   ],
   "source": [
    "# Number of rows and columns.\n",
    "sample.shape"
   ]
  },
  {
   "cell_type": "markdown",
   "id": "6f01b13a",
   "metadata": {},
   "source": [
    "We print the dataframe so we can explore the structure and the type of values of the variables."
   ]
  },
  {
   "cell_type": "code",
   "execution_count": 298,
   "id": "cf9880d1",
   "metadata": {},
   "outputs": [
    {
     "data": {
      "text/html": [
       "<div>\n",
       "<style scoped>\n",
       "    .dataframe tbody tr th:only-of-type {\n",
       "        vertical-align: middle;\n",
       "    }\n",
       "\n",
       "    .dataframe tbody tr th {\n",
       "        vertical-align: top;\n",
       "    }\n",
       "\n",
       "    .dataframe thead th {\n",
       "        text-align: right;\n",
       "    }\n",
       "</style>\n",
       "<table border=\"1\" class=\"dataframe\">\n",
       "  <thead>\n",
       "    <tr style=\"text-align: right;\">\n",
       "      <th></th>\n",
       "      <th>StartTime</th>\n",
       "      <th>EndTime</th>\n",
       "      <th>AreaID</th>\n",
       "      <th>UnitName</th>\n",
       "      <th>PsrType</th>\n",
       "      <th>quantity</th>\n",
       "      <th>CountryCode</th>\n",
       "      <th>EnergyTypeCode</th>\n",
       "    </tr>\n",
       "  </thead>\n",
       "  <tbody>\n",
       "    <tr>\n",
       "      <th>0</th>\n",
       "      <td>2021-12-31T23:45+00:00Z</td>\n",
       "      <td>2022-01-01T00:00+00:00Z</td>\n",
       "      <td>10Y1001A1001A83F</td>\n",
       "      <td>MAW</td>\n",
       "      <td>B19</td>\n",
       "      <td>24850</td>\n",
       "      <td>DE</td>\n",
       "      <td>B19</td>\n",
       "    </tr>\n",
       "    <tr>\n",
       "      <th>1</th>\n",
       "      <td>2022-01-01T00:00+00:00Z</td>\n",
       "      <td>2022-01-01T00:15+00:00Z</td>\n",
       "      <td>10Y1001A1001A83F</td>\n",
       "      <td>MAW</td>\n",
       "      <td>B19</td>\n",
       "      <td>24604</td>\n",
       "      <td>DE</td>\n",
       "      <td>B19</td>\n",
       "    </tr>\n",
       "    <tr>\n",
       "      <th>2</th>\n",
       "      <td>2022-01-01T00:15+00:00Z</td>\n",
       "      <td>2022-01-01T00:30+00:00Z</td>\n",
       "      <td>10Y1001A1001A83F</td>\n",
       "      <td>MAW</td>\n",
       "      <td>B19</td>\n",
       "      <td>24177</td>\n",
       "      <td>DE</td>\n",
       "      <td>B19</td>\n",
       "    </tr>\n",
       "    <tr>\n",
       "      <th>3</th>\n",
       "      <td>2022-01-01T00:30+00:00Z</td>\n",
       "      <td>2022-01-01T00:45+00:00Z</td>\n",
       "      <td>10Y1001A1001A83F</td>\n",
       "      <td>MAW</td>\n",
       "      <td>B19</td>\n",
       "      <td>23491</td>\n",
       "      <td>DE</td>\n",
       "      <td>B19</td>\n",
       "    </tr>\n",
       "    <tr>\n",
       "      <th>4</th>\n",
       "      <td>2022-01-01T00:45+00:00Z</td>\n",
       "      <td>2022-01-01T01:00+00:00Z</td>\n",
       "      <td>10Y1001A1001A83F</td>\n",
       "      <td>MAW</td>\n",
       "      <td>B19</td>\n",
       "      <td>23528</td>\n",
       "      <td>DE</td>\n",
       "      <td>B19</td>\n",
       "    </tr>\n",
       "    <tr>\n",
       "      <th>...</th>\n",
       "      <td>...</td>\n",
       "      <td>...</td>\n",
       "      <td>...</td>\n",
       "      <td>...</td>\n",
       "      <td>...</td>\n",
       "      <td>...</td>\n",
       "      <td>...</td>\n",
       "      <td>...</td>\n",
       "    </tr>\n",
       "    <tr>\n",
       "      <th>70075</th>\n",
       "      <td>2022-12-31T22:30+00:00Z</td>\n",
       "      <td>2022-12-31T22:45+00:00Z</td>\n",
       "      <td>NaN</td>\n",
       "      <td>MAW</td>\n",
       "      <td>B19</td>\n",
       "      <td>0</td>\n",
       "      <td>DE</td>\n",
       "      <td>B19</td>\n",
       "    </tr>\n",
       "    <tr>\n",
       "      <th>70076</th>\n",
       "      <td>2022-12-31T22:45+00:00Z</td>\n",
       "      <td>2022-12-31T23:00+00:00Z</td>\n",
       "      <td>NaN</td>\n",
       "      <td>MAW</td>\n",
       "      <td>B19</td>\n",
       "      <td>0</td>\n",
       "      <td>DE</td>\n",
       "      <td>B19</td>\n",
       "    </tr>\n",
       "    <tr>\n",
       "      <th>70077</th>\n",
       "      <td>2022-12-31T23:00+00:00Z</td>\n",
       "      <td>2022-12-31T23:15+00:00Z</td>\n",
       "      <td>NaN</td>\n",
       "      <td>MAW</td>\n",
       "      <td>B19</td>\n",
       "      <td>0</td>\n",
       "      <td>DE</td>\n",
       "      <td>B19</td>\n",
       "    </tr>\n",
       "    <tr>\n",
       "      <th>70078</th>\n",
       "      <td>2022-12-31T23:15+00:00Z</td>\n",
       "      <td>2022-12-31T23:30+00:00Z</td>\n",
       "      <td>NaN</td>\n",
       "      <td>MAW</td>\n",
       "      <td>B19</td>\n",
       "      <td>0</td>\n",
       "      <td>DE</td>\n",
       "      <td>B19</td>\n",
       "    </tr>\n",
       "    <tr>\n",
       "      <th>70079</th>\n",
       "      <td>2022-12-31T23:30+00:00Z</td>\n",
       "      <td>2022-12-31T23:45+00:00Z</td>\n",
       "      <td>NaN</td>\n",
       "      <td>MAW</td>\n",
       "      <td>B19</td>\n",
       "      <td>0</td>\n",
       "      <td>DE</td>\n",
       "      <td>B19</td>\n",
       "    </tr>\n",
       "  </tbody>\n",
       "</table>\n",
       "<p>70080 rows × 8 columns</p>\n",
       "</div>"
      ],
      "text/plain": [
       "                     StartTime                  EndTime            AreaID  \\\n",
       "0      2021-12-31T23:45+00:00Z  2022-01-01T00:00+00:00Z  10Y1001A1001A83F   \n",
       "1      2022-01-01T00:00+00:00Z  2022-01-01T00:15+00:00Z  10Y1001A1001A83F   \n",
       "2      2022-01-01T00:15+00:00Z  2022-01-01T00:30+00:00Z  10Y1001A1001A83F   \n",
       "3      2022-01-01T00:30+00:00Z  2022-01-01T00:45+00:00Z  10Y1001A1001A83F   \n",
       "4      2022-01-01T00:45+00:00Z  2022-01-01T01:00+00:00Z  10Y1001A1001A83F   \n",
       "...                        ...                      ...               ...   \n",
       "70075  2022-12-31T22:30+00:00Z  2022-12-31T22:45+00:00Z               NaN   \n",
       "70076  2022-12-31T22:45+00:00Z  2022-12-31T23:00+00:00Z               NaN   \n",
       "70077  2022-12-31T23:00+00:00Z  2022-12-31T23:15+00:00Z               NaN   \n",
       "70078  2022-12-31T23:15+00:00Z  2022-12-31T23:30+00:00Z               NaN   \n",
       "70079  2022-12-31T23:30+00:00Z  2022-12-31T23:45+00:00Z               NaN   \n",
       "\n",
       "      UnitName PsrType  quantity CountryCode EnergyTypeCode  \n",
       "0          MAW     B19     24850          DE            B19  \n",
       "1          MAW     B19     24604          DE            B19  \n",
       "2          MAW     B19     24177          DE            B19  \n",
       "3          MAW     B19     23491          DE            B19  \n",
       "4          MAW     B19     23528          DE            B19  \n",
       "...        ...     ...       ...         ...            ...  \n",
       "70075      MAW     B19         0          DE            B19  \n",
       "70076      MAW     B19         0          DE            B19  \n",
       "70077      MAW     B19         0          DE            B19  \n",
       "70078      MAW     B19         0          DE            B19  \n",
       "70079      MAW     B19         0          DE            B19  \n",
       "\n",
       "[70080 rows x 8 columns]"
      ]
     },
     "execution_count": 298,
     "metadata": {},
     "output_type": "execute_result"
    }
   ],
   "source": [
    "# Printing a sample\n",
    "sample"
   ]
  },
  {
   "cell_type": "markdown",
   "id": "60945f61",
   "metadata": {},
   "source": [
    "As we can see we have some NaN values with dates that seems to be duplicated, we will count number of values for each \"EndTime\" value."
   ]
  },
  {
   "cell_type": "code",
   "execution_count": 299,
   "id": "aed37774",
   "metadata": {},
   "outputs": [
    {
     "data": {
      "text/html": [
       "<div>\n",
       "<style scoped>\n",
       "    .dataframe tbody tr th:only-of-type {\n",
       "        vertical-align: middle;\n",
       "    }\n",
       "\n",
       "    .dataframe tbody tr th {\n",
       "        vertical-align: top;\n",
       "    }\n",
       "\n",
       "    .dataframe thead th {\n",
       "        text-align: right;\n",
       "    }\n",
       "</style>\n",
       "<table border=\"1\" class=\"dataframe\">\n",
       "  <thead>\n",
       "    <tr style=\"text-align: right;\">\n",
       "      <th></th>\n",
       "      <th>StartTime</th>\n",
       "      <th>AreaID</th>\n",
       "      <th>UnitName</th>\n",
       "      <th>PsrType</th>\n",
       "      <th>quantity</th>\n",
       "      <th>CountryCode</th>\n",
       "      <th>EnergyTypeCode</th>\n",
       "    </tr>\n",
       "    <tr>\n",
       "      <th>EndTime</th>\n",
       "      <th></th>\n",
       "      <th></th>\n",
       "      <th></th>\n",
       "      <th></th>\n",
       "      <th></th>\n",
       "      <th></th>\n",
       "      <th></th>\n",
       "    </tr>\n",
       "  </thead>\n",
       "  <tbody>\n",
       "    <tr>\n",
       "      <th>2022-01-01T00:00+00:00Z</th>\n",
       "      <td>2</td>\n",
       "      <td>1</td>\n",
       "      <td>2</td>\n",
       "      <td>2</td>\n",
       "      <td>2</td>\n",
       "      <td>2</td>\n",
       "      <td>2</td>\n",
       "    </tr>\n",
       "    <tr>\n",
       "      <th>2022-01-01T00:15+00:00Z</th>\n",
       "      <td>2</td>\n",
       "      <td>1</td>\n",
       "      <td>2</td>\n",
       "      <td>2</td>\n",
       "      <td>2</td>\n",
       "      <td>2</td>\n",
       "      <td>2</td>\n",
       "    </tr>\n",
       "    <tr>\n",
       "      <th>2022-01-01T00:30+00:00Z</th>\n",
       "      <td>2</td>\n",
       "      <td>1</td>\n",
       "      <td>2</td>\n",
       "      <td>2</td>\n",
       "      <td>2</td>\n",
       "      <td>2</td>\n",
       "      <td>2</td>\n",
       "    </tr>\n",
       "    <tr>\n",
       "      <th>2022-01-01T00:45+00:00Z</th>\n",
       "      <td>2</td>\n",
       "      <td>1</td>\n",
       "      <td>2</td>\n",
       "      <td>2</td>\n",
       "      <td>2</td>\n",
       "      <td>2</td>\n",
       "      <td>2</td>\n",
       "    </tr>\n",
       "    <tr>\n",
       "      <th>2022-01-01T01:00+00:00Z</th>\n",
       "      <td>2</td>\n",
       "      <td>1</td>\n",
       "      <td>2</td>\n",
       "      <td>2</td>\n",
       "      <td>2</td>\n",
       "      <td>2</td>\n",
       "      <td>2</td>\n",
       "    </tr>\n",
       "  </tbody>\n",
       "</table>\n",
       "</div>"
      ],
      "text/plain": [
       "                         StartTime  AreaID  UnitName  PsrType  quantity  \\\n",
       "EndTime                                                                   \n",
       "2022-01-01T00:00+00:00Z          2       1         2        2         2   \n",
       "2022-01-01T00:15+00:00Z          2       1         2        2         2   \n",
       "2022-01-01T00:30+00:00Z          2       1         2        2         2   \n",
       "2022-01-01T00:45+00:00Z          2       1         2        2         2   \n",
       "2022-01-01T01:00+00:00Z          2       1         2        2         2   \n",
       "\n",
       "                         CountryCode  EnergyTypeCode  \n",
       "EndTime                                               \n",
       "2022-01-01T00:00+00:00Z            2               2  \n",
       "2022-01-01T00:15+00:00Z            2               2  \n",
       "2022-01-01T00:30+00:00Z            2               2  \n",
       "2022-01-01T00:45+00:00Z            2               2  \n",
       "2022-01-01T01:00+00:00Z            2               2  "
      ]
     },
     "execution_count": 299,
     "metadata": {},
     "output_type": "execute_result"
    }
   ],
   "source": [
    "# Grouping by to see if the values are repeated\n",
    "sample.groupby('EndTime').count().head(5)"
   ]
  },
  {
   "cell_type": "markdown",
   "id": "e4979f99",
   "metadata": {},
   "source": [
    "We see that we have duplicated values for all the dataframe so we will drop the NaN values and stay with the ones that have the complete information."
   ]
  },
  {
   "cell_type": "code",
   "execution_count": 300,
   "id": "87ba6056",
   "metadata": {},
   "outputs": [
    {
     "data": {
      "text/html": [
       "<div>\n",
       "<style scoped>\n",
       "    .dataframe tbody tr th:only-of-type {\n",
       "        vertical-align: middle;\n",
       "    }\n",
       "\n",
       "    .dataframe tbody tr th {\n",
       "        vertical-align: top;\n",
       "    }\n",
       "\n",
       "    .dataframe thead th {\n",
       "        text-align: right;\n",
       "    }\n",
       "</style>\n",
       "<table border=\"1\" class=\"dataframe\">\n",
       "  <thead>\n",
       "    <tr style=\"text-align: right;\">\n",
       "      <th></th>\n",
       "      <th>StartTime</th>\n",
       "      <th>AreaID</th>\n",
       "      <th>UnitName</th>\n",
       "      <th>PsrType</th>\n",
       "      <th>quantity</th>\n",
       "      <th>CountryCode</th>\n",
       "      <th>EnergyTypeCode</th>\n",
       "    </tr>\n",
       "    <tr>\n",
       "      <th>EndTime</th>\n",
       "      <th></th>\n",
       "      <th></th>\n",
       "      <th></th>\n",
       "      <th></th>\n",
       "      <th></th>\n",
       "      <th></th>\n",
       "      <th></th>\n",
       "    </tr>\n",
       "  </thead>\n",
       "  <tbody>\n",
       "    <tr>\n",
       "      <th>2022-01-01T00:00+00:00Z</th>\n",
       "      <td>1</td>\n",
       "      <td>1</td>\n",
       "      <td>1</td>\n",
       "      <td>1</td>\n",
       "      <td>1</td>\n",
       "      <td>1</td>\n",
       "      <td>1</td>\n",
       "    </tr>\n",
       "    <tr>\n",
       "      <th>2022-01-01T00:15+00:00Z</th>\n",
       "      <td>1</td>\n",
       "      <td>1</td>\n",
       "      <td>1</td>\n",
       "      <td>1</td>\n",
       "      <td>1</td>\n",
       "      <td>1</td>\n",
       "      <td>1</td>\n",
       "    </tr>\n",
       "    <tr>\n",
       "      <th>2022-01-01T00:30+00:00Z</th>\n",
       "      <td>1</td>\n",
       "      <td>1</td>\n",
       "      <td>1</td>\n",
       "      <td>1</td>\n",
       "      <td>1</td>\n",
       "      <td>1</td>\n",
       "      <td>1</td>\n",
       "    </tr>\n",
       "    <tr>\n",
       "      <th>2022-01-01T00:45+00:00Z</th>\n",
       "      <td>1</td>\n",
       "      <td>1</td>\n",
       "      <td>1</td>\n",
       "      <td>1</td>\n",
       "      <td>1</td>\n",
       "      <td>1</td>\n",
       "      <td>1</td>\n",
       "    </tr>\n",
       "    <tr>\n",
       "      <th>2022-01-01T01:00+00:00Z</th>\n",
       "      <td>1</td>\n",
       "      <td>1</td>\n",
       "      <td>1</td>\n",
       "      <td>1</td>\n",
       "      <td>1</td>\n",
       "      <td>1</td>\n",
       "      <td>1</td>\n",
       "    </tr>\n",
       "  </tbody>\n",
       "</table>\n",
       "</div>"
      ],
      "text/plain": [
       "                         StartTime  AreaID  UnitName  PsrType  quantity  \\\n",
       "EndTime                                                                   \n",
       "2022-01-01T00:00+00:00Z          1       1         1        1         1   \n",
       "2022-01-01T00:15+00:00Z          1       1         1        1         1   \n",
       "2022-01-01T00:30+00:00Z          1       1         1        1         1   \n",
       "2022-01-01T00:45+00:00Z          1       1         1        1         1   \n",
       "2022-01-01T01:00+00:00Z          1       1         1        1         1   \n",
       "\n",
       "                         CountryCode  EnergyTypeCode  \n",
       "EndTime                                               \n",
       "2022-01-01T00:00+00:00Z            1               1  \n",
       "2022-01-01T00:15+00:00Z            1               1  \n",
       "2022-01-01T00:30+00:00Z            1               1  \n",
       "2022-01-01T00:45+00:00Z            1               1  \n",
       "2022-01-01T01:00+00:00Z            1               1  "
      ]
     },
     "execution_count": 300,
     "metadata": {},
     "output_type": "execute_result"
    }
   ],
   "source": [
    "#Dropping the repeated values and checking\n",
    "sample.dropna(inplace=True)\n",
    "sample.groupby('EndTime').count().head(5)"
   ]
  },
  {
   "cell_type": "markdown",
   "id": "bb3a0b14",
   "metadata": {},
   "source": [
    "Now we can see that the amount of values that the dataset have is the amount of values corresponding to 15 minutes periodicity , this means that if we resample we will have the complete information for a year."
   ]
  },
  {
   "cell_type": "code",
   "execution_count": 301,
   "id": "be166d3c",
   "metadata": {},
   "outputs": [
    {
     "data": {
      "text/plain": [
       "(35040, 8)"
      ]
     },
     "execution_count": 301,
     "metadata": {},
     "output_type": "execute_result"
    }
   ],
   "source": [
    "# Number of rows and columns after cleaning duplicates\n",
    "sample.shape"
   ]
  },
  {
   "cell_type": "markdown",
   "id": "f409e051",
   "metadata": {},
   "source": [
    "We will print the data type for each variable, but we think the structure should be like this:"
   ]
  },
  {
   "cell_type": "markdown",
   "id": "448f4345",
   "metadata": {},
   "source": [
    "| Name of the variable | Data Type | Definition |\n",
    "|:---------:|:--------:|:--------:|\n",
    "|  StartTime | datetime | Start Time of the measure of the energy |\n",
    "|  EndTime | datetime | End Time of the measure of the energy |\n",
    "|  AreaID  | string | ID of the area we are measuring |\n",
    "|  UnitName  | string | Unit of Measure (MAW: Megawatt)  |\n",
    "|  PsrType  | string | Type of energy |\n",
    "|  quantity  | int64 | Amount of energy (MAW) |\n",
    "\n",
    "\n"
   ]
  },
  {
   "cell_type": "code",
   "execution_count": 302,
   "id": "8dee911e",
   "metadata": {},
   "outputs": [
    {
     "name": "stdout",
     "output_type": "stream",
     "text": [
      "<class 'pandas.core.frame.DataFrame'>\n",
      "Index: 35040 entries, 0 to 35039\n",
      "Data columns (total 8 columns):\n",
      " #   Column          Non-Null Count  Dtype \n",
      "---  ------          --------------  ----- \n",
      " 0   StartTime       35040 non-null  object\n",
      " 1   EndTime         35040 non-null  object\n",
      " 2   AreaID          35040 non-null  object\n",
      " 3   UnitName        35040 non-null  object\n",
      " 4   PsrType         35040 non-null  object\n",
      " 5   quantity        35040 non-null  int64 \n",
      " 6   CountryCode     35040 non-null  object\n",
      " 7   EnergyTypeCode  35040 non-null  object\n",
      "dtypes: int64(1), object(7)\n",
      "memory usage: 2.4+ MB\n"
     ]
    }
   ],
   "source": [
    "# Printing datatype and amount of values\n",
    "sample.info()"
   ]
  },
  {
   "cell_type": "markdown",
   "id": "cc7adaf8",
   "metadata": {},
   "source": [
    "We see that we have to change datatype for \"StartTime\" and \"EndTime\" to be datetime data type."
   ]
  },
  {
   "cell_type": "code",
   "execution_count": 303,
   "id": "656c1a25",
   "metadata": {},
   "outputs": [],
   "source": [
    "#We define a date_parser, in this case we are omitting the time zone\n",
    "#information since all countries share the same time zone.\n",
    "date_parser = lambda x: pd.to_datetime(x[:22])"
   ]
  },
  {
   "cell_type": "code",
   "execution_count": 304,
   "id": "19580025",
   "metadata": {},
   "outputs": [],
   "source": [
    "#Transform the column to datetime data type.\n",
    "sample['EndTime'] = sample['EndTime'].apply(lambda x: pd.to_datetime(x[:22]))\n",
    "\n",
    "#Transform the column to datetime data type.\n",
    "sample['StartTime'] = sample['StartTime'].apply(lambda x: pd.to_datetime(x[:22]))"
   ]
  },
  {
   "cell_type": "markdown",
   "id": "28b850d2",
   "metadata": {},
   "source": [
    "We are going to detect in what periodicity is the dataset we are reading, if we have more than one periodicity in the dataset we will select the minimun."
   ]
  },
  {
   "cell_type": "markdown",
   "id": "caeab940",
   "metadata": {},
   "source": [
    "For this first we are going to calculate a new column that contains the difference between the actual row and the previous row of the \"EndTime\" column."
   ]
  },
  {
   "cell_type": "code",
   "execution_count": 305,
   "id": "e7aa18f1",
   "metadata": {},
   "outputs": [],
   "source": [
    "# Calculating the time difference in seconds, dividing by 60\n",
    "# to obtain minutes\n",
    "sample['TimeDifference'] = sample['EndTime'].diff().dt.total_seconds() / 60"
   ]
  },
  {
   "cell_type": "markdown",
   "id": "d849e1a9",
   "metadata": {},
   "source": [
    " As we can see , the new column is giving us the periodicity (in this case 15 minutes) of the sample we are analyzing."
   ]
  },
  {
   "cell_type": "code",
   "execution_count": 306,
   "id": "b278266a",
   "metadata": {},
   "outputs": [
    {
     "data": {
      "text/html": [
       "<div>\n",
       "<style scoped>\n",
       "    .dataframe tbody tr th:only-of-type {\n",
       "        vertical-align: middle;\n",
       "    }\n",
       "\n",
       "    .dataframe tbody tr th {\n",
       "        vertical-align: top;\n",
       "    }\n",
       "\n",
       "    .dataframe thead th {\n",
       "        text-align: right;\n",
       "    }\n",
       "</style>\n",
       "<table border=\"1\" class=\"dataframe\">\n",
       "  <thead>\n",
       "    <tr style=\"text-align: right;\">\n",
       "      <th></th>\n",
       "      <th>EndTime</th>\n",
       "      <th>TimeDifference</th>\n",
       "    </tr>\n",
       "  </thead>\n",
       "  <tbody>\n",
       "    <tr>\n",
       "      <th>0</th>\n",
       "      <td>2022-01-01 00:00:00+00:00</td>\n",
       "      <td>NaN</td>\n",
       "    </tr>\n",
       "    <tr>\n",
       "      <th>1</th>\n",
       "      <td>2022-01-01 00:15:00+00:00</td>\n",
       "      <td>15.0</td>\n",
       "    </tr>\n",
       "    <tr>\n",
       "      <th>2</th>\n",
       "      <td>2022-01-01 00:30:00+00:00</td>\n",
       "      <td>15.0</td>\n",
       "    </tr>\n",
       "    <tr>\n",
       "      <th>3</th>\n",
       "      <td>2022-01-01 00:45:00+00:00</td>\n",
       "      <td>15.0</td>\n",
       "    </tr>\n",
       "    <tr>\n",
       "      <th>4</th>\n",
       "      <td>2022-01-01 01:00:00+00:00</td>\n",
       "      <td>15.0</td>\n",
       "    </tr>\n",
       "  </tbody>\n",
       "</table>\n",
       "</div>"
      ],
      "text/plain": [
       "                    EndTime  TimeDifference\n",
       "0 2022-01-01 00:00:00+00:00             NaN\n",
       "1 2022-01-01 00:15:00+00:00            15.0\n",
       "2 2022-01-01 00:30:00+00:00            15.0\n",
       "3 2022-01-01 00:45:00+00:00            15.0\n",
       "4 2022-01-01 01:00:00+00:00            15.0"
      ]
     },
     "execution_count": 306,
     "metadata": {},
     "output_type": "execute_result"
    }
   ],
   "source": [
    "# Printing Time and Periodicity\n",
    "sample[['EndTime','TimeDifference']].head(5)"
   ]
  },
  {
   "cell_type": "markdown",
   "id": "00096e4e",
   "metadata": {},
   "source": [
    "Then we are going to select the minimum value of this column, which gives us our desired periodicity (15, 30, or 60 minutes)."
   ]
  },
  {
   "cell_type": "code",
   "execution_count": 307,
   "id": "7ba1d920",
   "metadata": {},
   "outputs": [],
   "source": [
    "# Sampling period we are going to use to sample\n",
    "sampling_period = int(df.loc[(df['TimeDifference'] > 0) & (df['TimeDifference'] <= 60), 'TimeDifference'].min())"
   ]
  },
  {
   "cell_type": "code",
   "execution_count": 308,
   "id": "cda999a4",
   "metadata": {},
   "outputs": [],
   "source": [
    "# We have to set the EndTime as index so we can do the resampling.\n",
    "sample.set_index('EndTime', inplace=True)"
   ]
  },
  {
   "cell_type": "code",
   "execution_count": 309,
   "id": "87a5e8a7",
   "metadata": {},
   "outputs": [],
   "source": [
    "#We change the type of \"sampling_period\" to string.\n",
    "sampling_period=str(sampling_period)\n",
    "\n",
    "# We use the sampling_period obtained to resample.\n",
    "sample = sample.resample(f'{sampling_period}T').asfreq()"
   ]
  },
  {
   "cell_type": "markdown",
   "id": "8f38f00c",
   "metadata": {},
   "source": [
    "Now that we have completed the series by filling in missing periods through resampling, the next step is to assign an hour value to each period. This will help us identify and handle periods with missing values. Additionally, if there are periods with no values, we can assume that there is no information available for those specific time intervals and choose not to include them in our analysis.\n",
    "\n",
    "To accomplish this, we have added a new column named 'Hour' to the DataFrame, which represents the hour of the day corresponding to each period. This additional information allows us to detect missing values more effectively and make informed decisions about how to handle them.\n",
    "\n",
    "With the 'Hour' column in place, we can proceed to analyze and address missing or incomplete data based on the hour information associated with each period."
   ]
  },
  {
   "cell_type": "code",
   "execution_count": 310,
   "id": "a8940df6",
   "metadata": {},
   "outputs": [],
   "source": [
    "# Extracting the Date-Hour for each column (without minutes)\n",
    "sample['DateHour'] = sample.index.floor('H')"
   ]
  },
  {
   "cell_type": "code",
   "execution_count": 311,
   "id": "88e499f2",
   "metadata": {},
   "outputs": [],
   "source": [
    "# Reset index.\n",
    "sample.reset_index('EndTime', inplace=True)"
   ]
  },
  {
   "cell_type": "markdown",
   "id": "5c627ef0",
   "metadata": {},
   "source": [
    "To identify whether a specific hour has missing values that need imputation or if it has no values and should be excluded from consideration, we will calculate a new column named \"HourlySum.\" This column will represent the accumulated \"quantity\" for each date-hour group.\n",
    "\n",
    "The \"HourlySum\" column is derived by summing the \"quantity\" values within each group defined by the combination of date and hour. This cumulative sum provides insights into the total quantity of energy for each specific date and hour. By analyzing the \"HourlySum\" column, we can efficiently identify periods with missing values or determine if certain hours have no recorded information.\n",
    "\n",
    "This information will guide us in making decisions about imputing missing values and handling periods with no available data.\n",
    "\n",
    "\n",
    "\n",
    "\n",
    "\n",
    "\n",
    "\n",
    "| Condition | Description | Action |\n",
    "|:---------:|:--------:|:--------:|\n",
    "|  HourlySum = 0 | No information for this group | Drop group |\n",
    "|  HourlySum > 0 | Group with information|  IF NaNs, impute. |\n",
    "\n"
   ]
  },
  {
   "cell_type": "code",
   "execution_count": 312,
   "id": "6fba530d",
   "metadata": {},
   "outputs": [],
   "source": [
    "# Group by DateHour and accumulate values\n",
    "grouped_df = sample.groupby('DateHour')['quantity'].sum().reset_index()\n",
    "\n",
    "# Rename quantity with HourlySum\n",
    "grouped_df = grouped_df.rename(columns={'quantity': 'HourlySum'})\n",
    "\n",
    "# Merge the values we obtained to the principal dataframe\n",
    "sample = pd.merge(sample, grouped_df, how='left', left_on='DateHour', right_on='DateHour')"
   ]
  },
  {
   "cell_type": "markdown",
   "id": "27634118",
   "metadata": {},
   "source": [
    "We stay with the values that have at least one value in the hour group (HourlySum !=0) and that are not NaN values (quantity!=NaN)"
   ]
  },
  {
   "cell_type": "code",
   "execution_count": 313,
   "id": "dfd34adf",
   "metadata": {},
   "outputs": [],
   "source": [
    "# Filtering to obtain the existing values\n",
    "sample=sample[~((sample['quantity'].isnull())&(sample['HourlySum']==0))]"
   ]
  },
  {
   "cell_type": "markdown",
   "id": "920f2e51",
   "metadata": {},
   "source": [
    "Now we are going to use the function \"interpolate\" to impute the missing values using the nearest existing values"
   ]
  },
  {
   "cell_type": "code",
   "execution_count": 314,
   "id": "f53a7c4c",
   "metadata": {},
   "outputs": [],
   "source": [
    "# Interpolate for imputing missing values\n",
    "sample.interpolate(method='linear', limit_direction='both', inplace=True)"
   ]
  },
  {
   "cell_type": "markdown",
   "id": "b55a41bc",
   "metadata": {},
   "source": [
    "We have to set EndTime as index again so this time we can resample for 1 hour periodicity "
   ]
  },
  {
   "cell_type": "code",
   "execution_count": 315,
   "id": "e93534aa",
   "metadata": {},
   "outputs": [],
   "source": [
    "# Setting EndTime as index\n",
    "sample.set_index('EndTime',inplace=True)"
   ]
  },
  {
   "cell_type": "markdown",
   "id": "51dfbb6a",
   "metadata": {},
   "source": [
    "For resampling we are going to separate categorical columns and numerical columns, for numerical we will accumulate the values and for categorical we will choose the last value of the group."
   ]
  },
  {
   "cell_type": "code",
   "execution_count": 316,
   "id": "56195771",
   "metadata": {},
   "outputs": [],
   "source": [
    "# Numeric columns\n",
    "numeric_cols = sample.select_dtypes(include=['number'])\n",
    "\n",
    "# Categoric columns\n",
    "categorical_cols = sample.select_dtypes(exclude=['number', 'datetime64[ns]', 'bool'])"
   ]
  },
  {
   "cell_type": "code",
   "execution_count": 317,
   "id": "475200aa",
   "metadata": {},
   "outputs": [],
   "source": [
    "# Resample the numeric columns and sum\n",
    "resampled_df_num = numeric_cols.resample('H').sum()\n",
    "\n",
    "# Resample the categorical columns.\n",
    "# Here, we take the first value. Adjust the method \n",
    "# if needed (e.g., 'last', or a custom function to get the mode)\n",
    "resampled_df_cat= categorical_cols.resample('H').last()"
   ]
  },
  {
   "cell_type": "code",
   "execution_count": 318,
   "id": "47ddd895",
   "metadata": {},
   "outputs": [],
   "source": [
    "# Resampled dataframe\n",
    "resampled_df = pd.concat([resampled_df_num, resampled_df_cat], axis=1)"
   ]
  },
  {
   "cell_type": "markdown",
   "id": "5d694083",
   "metadata": {},
   "source": [
    "We can see that we have 8760 values (whole year data in hours) with the accumulated quantity of power consumption (MAW) per hour for one country and for one type of energy."
   ]
  },
  {
   "cell_type": "code",
   "execution_count": 319,
   "id": "98b12c30",
   "metadata": {},
   "outputs": [
    {
     "data": {
      "image/png": "[encoded data removed]",
      "text/plain": [
       "<Figure size 1200x600 with 1 Axes>"
      ]
     },
     "metadata": {},
     "output_type": "display_data"
    }
   ],
   "source": [
    "# Figure size\n",
    "fig, ax = plt.subplots(figsize=(12, 6))\n",
    "\n",
    "ax.plot(resampled_df.index, resampled_df['quantity'], label='Quantity')\n",
    "\n",
    "# Add grid lines\n",
    "ax.grid(True, linestyle='--', alpha=0.7)\n",
    "\n",
    "# Set ticks\n",
    "plt.xticks(rotation=45)  # Rotate x-axis labels for better visibility\n",
    "\n",
    "# Add labels and title\n",
    "ax.set_xlabel('Date and Hour')\n",
    "ax.set_ylabel('Amount Generated (MAW)')\n",
    "ax.set_title('Denmark Wind Onshore Energy Generation')\n",
    "\n",
    "# Add legend\n",
    "ax.legend()\n",
    "\n",
    "# Show the plot\n",
    "plt.show()\n"
   ]
  },
  {
   "cell_type": "code",
   "execution_count": 320,
   "id": "8cceb9a6",
   "metadata": {},
   "outputs": [
    {
     "data": {
      "text/html": [
       "<div>\n",
       "<style scoped>\n",
       "    .dataframe tbody tr th:only-of-type {\n",
       "        vertical-align: middle;\n",
       "    }\n",
       "\n",
       "    .dataframe tbody tr th {\n",
       "        vertical-align: top;\n",
       "    }\n",
       "\n",
       "    .dataframe thead th {\n",
       "        text-align: right;\n",
       "    }\n",
       "</style>\n",
       "<table border=\"1\" class=\"dataframe\">\n",
       "  <thead>\n",
       "    <tr style=\"text-align: right;\">\n",
       "      <th></th>\n",
       "      <th>quantity</th>\n",
       "      <th>TimeDifference</th>\n",
       "      <th>HourlySum</th>\n",
       "      <th>StartTime</th>\n",
       "      <th>AreaID</th>\n",
       "      <th>UnitName</th>\n",
       "      <th>PsrType</th>\n",
       "      <th>CountryCode</th>\n",
       "      <th>EnergyTypeCode</th>\n",
       "      <th>DateHour</th>\n",
       "    </tr>\n",
       "    <tr>\n",
       "      <th>EndTime</th>\n",
       "      <th></th>\n",
       "      <th></th>\n",
       "      <th></th>\n",
       "      <th></th>\n",
       "      <th></th>\n",
       "      <th></th>\n",
       "      <th></th>\n",
       "      <th></th>\n",
       "      <th></th>\n",
       "      <th></th>\n",
       "    </tr>\n",
       "  </thead>\n",
       "  <tbody>\n",
       "    <tr>\n",
       "      <th>2022-01-01 00:00:00+00:00</th>\n",
       "      <td>97122</td>\n",
       "      <td>60.0</td>\n",
       "      <td>388488</td>\n",
       "      <td>2022-01-01 00:30:00+00:00</td>\n",
       "      <td>10Y1001A1001A83F</td>\n",
       "      <td>MAW</td>\n",
       "      <td>B19</td>\n",
       "      <td>DE</td>\n",
       "      <td>B19</td>\n",
       "      <td>2022-01-01 00:00:00+00:00</td>\n",
       "    </tr>\n",
       "    <tr>\n",
       "      <th>2022-01-01 01:00:00+00:00</th>\n",
       "      <td>92456</td>\n",
       "      <td>60.0</td>\n",
       "      <td>369824</td>\n",
       "      <td>2022-01-01 01:30:00+00:00</td>\n",
       "      <td>10Y1001A1001A83F</td>\n",
       "      <td>MAW</td>\n",
       "      <td>B19</td>\n",
       "      <td>DE</td>\n",
       "      <td>B19</td>\n",
       "      <td>2022-01-01 01:00:00+00:00</td>\n",
       "    </tr>\n",
       "    <tr>\n",
       "      <th>2022-01-01 02:00:00+00:00</th>\n",
       "      <td>87993</td>\n",
       "      <td>60.0</td>\n",
       "      <td>351972</td>\n",
       "      <td>2022-01-01 02:30:00+00:00</td>\n",
       "      <td>10Y1001A1001A83F</td>\n",
       "      <td>MAW</td>\n",
       "      <td>B19</td>\n",
       "      <td>DE</td>\n",
       "      <td>B19</td>\n",
       "      <td>2022-01-01 02:00:00+00:00</td>\n",
       "    </tr>\n",
       "    <tr>\n",
       "      <th>2022-01-01 03:00:00+00:00</th>\n",
       "      <td>81980</td>\n",
       "      <td>60.0</td>\n",
       "      <td>327920</td>\n",
       "      <td>2022-01-01 03:30:00+00:00</td>\n",
       "      <td>10Y1001A1001A83F</td>\n",
       "      <td>MAW</td>\n",
       "      <td>B19</td>\n",
       "      <td>DE</td>\n",
       "      <td>B19</td>\n",
       "      <td>2022-01-01 03:00:00+00:00</td>\n",
       "    </tr>\n",
       "    <tr>\n",
       "      <th>2022-01-01 04:00:00+00:00</th>\n",
       "      <td>77978</td>\n",
       "      <td>60.0</td>\n",
       "      <td>311912</td>\n",
       "      <td>2022-01-01 04:30:00+00:00</td>\n",
       "      <td>10Y1001A1001A83F</td>\n",
       "      <td>MAW</td>\n",
       "      <td>B19</td>\n",
       "      <td>DE</td>\n",
       "      <td>B19</td>\n",
       "      <td>2022-01-01 04:00:00+00:00</td>\n",
       "    </tr>\n",
       "    <tr>\n",
       "      <th>...</th>\n",
       "      <td>...</td>\n",
       "      <td>...</td>\n",
       "      <td>...</td>\n",
       "      <td>...</td>\n",
       "      <td>...</td>\n",
       "      <td>...</td>\n",
       "      <td>...</td>\n",
       "      <td>...</td>\n",
       "      <td>...</td>\n",
       "      <td>...</td>\n",
       "    </tr>\n",
       "    <tr>\n",
       "      <th>2022-12-31 19:00:00+00:00</th>\n",
       "      <td>122020</td>\n",
       "      <td>60.0</td>\n",
       "      <td>488080</td>\n",
       "      <td>2022-12-31 19:30:00+00:00</td>\n",
       "      <td>10Y1001A1001A83F</td>\n",
       "      <td>MAW</td>\n",
       "      <td>B19</td>\n",
       "      <td>DE</td>\n",
       "      <td>B19</td>\n",
       "      <td>2022-12-31 19:00:00+00:00</td>\n",
       "    </tr>\n",
       "    <tr>\n",
       "      <th>2022-12-31 20:00:00+00:00</th>\n",
       "      <td>123074</td>\n",
       "      <td>60.0</td>\n",
       "      <td>492296</td>\n",
       "      <td>2022-12-31 20:30:00+00:00</td>\n",
       "      <td>10Y1001A1001A83F</td>\n",
       "      <td>MAW</td>\n",
       "      <td>B19</td>\n",
       "      <td>DE</td>\n",
       "      <td>B19</td>\n",
       "      <td>2022-12-31 20:00:00+00:00</td>\n",
       "    </tr>\n",
       "    <tr>\n",
       "      <th>2022-12-31 21:00:00+00:00</th>\n",
       "      <td>121963</td>\n",
       "      <td>60.0</td>\n",
       "      <td>487852</td>\n",
       "      <td>2022-12-31 21:30:00+00:00</td>\n",
       "      <td>10Y1001A1001A83F</td>\n",
       "      <td>MAW</td>\n",
       "      <td>B19</td>\n",
       "      <td>DE</td>\n",
       "      <td>B19</td>\n",
       "      <td>2022-12-31 21:00:00+00:00</td>\n",
       "    </tr>\n",
       "    <tr>\n",
       "      <th>2022-12-31 22:00:00+00:00</th>\n",
       "      <td>117224</td>\n",
       "      <td>60.0</td>\n",
       "      <td>468896</td>\n",
       "      <td>2022-12-31 22:30:00+00:00</td>\n",
       "      <td>10Y1001A1001A83F</td>\n",
       "      <td>MAW</td>\n",
       "      <td>B19</td>\n",
       "      <td>DE</td>\n",
       "      <td>B19</td>\n",
       "      <td>2022-12-31 22:00:00+00:00</td>\n",
       "    </tr>\n",
       "    <tr>\n",
       "      <th>2022-12-31 23:00:00+00:00</th>\n",
       "      <td>114842</td>\n",
       "      <td>60.0</td>\n",
       "      <td>459368</td>\n",
       "      <td>2022-12-31 23:30:00+00:00</td>\n",
       "      <td>10Y1001A1001A83F</td>\n",
       "      <td>MAW</td>\n",
       "      <td>B19</td>\n",
       "      <td>DE</td>\n",
       "      <td>B19</td>\n",
       "      <td>2022-12-31 23:00:00+00:00</td>\n",
       "    </tr>\n",
       "  </tbody>\n",
       "</table>\n",
       "<p>8760 rows × 10 columns</p>\n",
       "</div>"
      ],
      "text/plain": [
       "                           quantity  TimeDifference  HourlySum  \\\n",
       "EndTime                                                          \n",
       "2022-01-01 00:00:00+00:00     97122            60.0     388488   \n",
       "2022-01-01 01:00:00+00:00     92456            60.0     369824   \n",
       "2022-01-01 02:00:00+00:00     87993            60.0     351972   \n",
       "2022-01-01 03:00:00+00:00     81980            60.0     327920   \n",
       "2022-01-01 04:00:00+00:00     77978            60.0     311912   \n",
       "...                             ...             ...        ...   \n",
       "2022-12-31 19:00:00+00:00    122020            60.0     488080   \n",
       "2022-12-31 20:00:00+00:00    123074            60.0     492296   \n",
       "2022-12-31 21:00:00+00:00    121963            60.0     487852   \n",
       "2022-12-31 22:00:00+00:00    117224            60.0     468896   \n",
       "2022-12-31 23:00:00+00:00    114842            60.0     459368   \n",
       "\n",
       "                                          StartTime            AreaID  \\\n",
       "EndTime                                                                 \n",
       "2022-01-01 00:00:00+00:00 2022-01-01 00:30:00+00:00  10Y1001A1001A83F   \n",
       "2022-01-01 01:00:00+00:00 2022-01-01 01:30:00+00:00  10Y1001A1001A83F   \n",
       "2022-01-01 02:00:00+00:00 2022-01-01 02:30:00+00:00  10Y1001A1001A83F   \n",
       "2022-01-01 03:00:00+00:00 2022-01-01 03:30:00+00:00  10Y1001A1001A83F   \n",
       "2022-01-01 04:00:00+00:00 2022-01-01 04:30:00+00:00  10Y1001A1001A83F   \n",
       "...                                             ...               ...   \n",
       "2022-12-31 19:00:00+00:00 2022-12-31 19:30:00+00:00  10Y1001A1001A83F   \n",
       "2022-12-31 20:00:00+00:00 2022-12-31 20:30:00+00:00  10Y1001A1001A83F   \n",
       "2022-12-31 21:00:00+00:00 2022-12-31 21:30:00+00:00  10Y1001A1001A83F   \n",
       "2022-12-31 22:00:00+00:00 2022-12-31 22:30:00+00:00  10Y1001A1001A83F   \n",
       "2022-12-31 23:00:00+00:00 2022-12-31 23:30:00+00:00  10Y1001A1001A83F   \n",
       "\n",
       "                          UnitName PsrType CountryCode EnergyTypeCode  \\\n",
       "EndTime                                                                 \n",
       "2022-01-01 00:00:00+00:00      MAW     B19          DE            B19   \n",
       "2022-01-01 01:00:00+00:00      MAW     B19          DE            B19   \n",
       "2022-01-01 02:00:00+00:00      MAW     B19          DE            B19   \n",
       "2022-01-01 03:00:00+00:00      MAW     B19          DE            B19   \n",
       "2022-01-01 04:00:00+00:00      MAW     B19          DE            B19   \n",
       "...                            ...     ...         ...            ...   \n",
       "2022-12-31 19:00:00+00:00      MAW     B19          DE            B19   \n",
       "2022-12-31 20:00:00+00:00      MAW     B19          DE            B19   \n",
       "2022-12-31 21:00:00+00:00      MAW     B19          DE            B19   \n",
       "2022-12-31 22:00:00+00:00      MAW     B19          DE            B19   \n",
       "2022-12-31 23:00:00+00:00      MAW     B19          DE            B19   \n",
       "\n",
       "                                           DateHour  \n",
       "EndTime                                              \n",
       "2022-01-01 00:00:00+00:00 2022-01-01 00:00:00+00:00  \n",
       "2022-01-01 01:00:00+00:00 2022-01-01 01:00:00+00:00  \n",
       "2022-01-01 02:00:00+00:00 2022-01-01 02:00:00+00:00  \n",
       "2022-01-01 03:00:00+00:00 2022-01-01 03:00:00+00:00  \n",
       "2022-01-01 04:00:00+00:00 2022-01-01 04:00:00+00:00  \n",
       "...                                             ...  \n",
       "2022-12-31 19:00:00+00:00 2022-12-31 19:00:00+00:00  \n",
       "2022-12-31 20:00:00+00:00 2022-12-31 20:00:00+00:00  \n",
       "2022-12-31 21:00:00+00:00 2022-12-31 21:00:00+00:00  \n",
       "2022-12-31 22:00:00+00:00 2022-12-31 22:00:00+00:00  \n",
       "2022-12-31 23:00:00+00:00 2022-12-31 23:00:00+00:00  \n",
       "\n",
       "[8760 rows x 10 columns]"
      ]
     },
     "execution_count": 320,
     "metadata": {},
     "output_type": "execute_result"
    }
   ],
   "source": [
    "resampled_df"
   ]
  },
  {
   "cell_type": "markdown",
   "id": "e702137c",
   "metadata": {},
   "source": [
    "We are going to make this proccess for every generate file that we need to use and then add them all for each country so we can have the total generation of green energy for each country."
   ]
  },
  {
   "cell_type": "markdown",
   "id": "02fd0ee9",
   "metadata": {},
   "source": [
    "### Initial Exploration Data Analysis - Load Files"
   ]
  },
  {
   "cell_type": "markdown",
   "id": "23268d54",
   "metadata": {},
   "source": [
    "We read one of the files as an example to show how the exploration was."
   ]
  },
  {
   "cell_type": "code",
   "execution_count": 321,
   "id": "fe6e7de5",
   "metadata": {},
   "outputs": [],
   "source": [
    "# Reading one specific sample\n",
    "filename='load_DE'\n",
    "\n",
    "sample_load = pd.read_csv(f\"../jupyter_notebook/data_samples/{filename}.csv\")\n",
    "\n",
    "# We save the name of country and type of energy from the filename.\n",
    "_, country = filename.split('_')\n",
    "country = country.replace('.csv', '') # Remove the file extension"
   ]
  },
  {
   "cell_type": "markdown",
   "id": "51cb1765",
   "metadata": {},
   "source": [
    "For this example we can see we have complete values for a periodicity of 15 minutes"
   ]
  },
  {
   "cell_type": "code",
   "execution_count": 322,
   "id": "a2ff5708",
   "metadata": {},
   "outputs": [
    {
     "data": {
      "text/plain": [
       "(35040, 5)"
      ]
     },
     "execution_count": 322,
     "metadata": {},
     "output_type": "execute_result"
    }
   ],
   "source": [
    "# Number of rows and columns.\n",
    "sample_load.shape"
   ]
  },
  {
   "cell_type": "markdown",
   "id": "98447a97",
   "metadata": {},
   "source": [
    "We can see that all the values of the print are complete"
   ]
  },
  {
   "cell_type": "code",
   "execution_count": 323,
   "id": "fc193daf",
   "metadata": {},
   "outputs": [
    {
     "data": {
      "text/html": [
       "<div>\n",
       "<style scoped>\n",
       "    .dataframe tbody tr th:only-of-type {\n",
       "        vertical-align: middle;\n",
       "    }\n",
       "\n",
       "    .dataframe tbody tr th {\n",
       "        vertical-align: top;\n",
       "    }\n",
       "\n",
       "    .dataframe thead th {\n",
       "        text-align: right;\n",
       "    }\n",
       "</style>\n",
       "<table border=\"1\" class=\"dataframe\">\n",
       "  <thead>\n",
       "    <tr style=\"text-align: right;\">\n",
       "      <th></th>\n",
       "      <th>StartTime</th>\n",
       "      <th>EndTime</th>\n",
       "      <th>AreaID</th>\n",
       "      <th>UnitName</th>\n",
       "      <th>Load</th>\n",
       "    </tr>\n",
       "  </thead>\n",
       "  <tbody>\n",
       "    <tr>\n",
       "      <th>0</th>\n",
       "      <td>2021-12-31T23:45+00:00Z</td>\n",
       "      <td>2022-01-01T00:00+00:00Z</td>\n",
       "      <td>10Y1001A1001A83F</td>\n",
       "      <td>MAW</td>\n",
       "      <td>42196</td>\n",
       "    </tr>\n",
       "    <tr>\n",
       "      <th>1</th>\n",
       "      <td>2022-01-01T00:00+00:00Z</td>\n",
       "      <td>2022-01-01T00:15+00:00Z</td>\n",
       "      <td>10Y1001A1001A83F</td>\n",
       "      <td>MAW</td>\n",
       "      <td>41804</td>\n",
       "    </tr>\n",
       "    <tr>\n",
       "      <th>2</th>\n",
       "      <td>2022-01-01T00:15+00:00Z</td>\n",
       "      <td>2022-01-01T00:30+00:00Z</td>\n",
       "      <td>10Y1001A1001A83F</td>\n",
       "      <td>MAW</td>\n",
       "      <td>41141</td>\n",
       "    </tr>\n",
       "    <tr>\n",
       "      <th>3</th>\n",
       "      <td>2022-01-01T00:30+00:00Z</td>\n",
       "      <td>2022-01-01T00:45+00:00Z</td>\n",
       "      <td>10Y1001A1001A83F</td>\n",
       "      <td>MAW</td>\n",
       "      <td>41002</td>\n",
       "    </tr>\n",
       "    <tr>\n",
       "      <th>4</th>\n",
       "      <td>2022-01-01T00:45+00:00Z</td>\n",
       "      <td>2022-01-01T01:00+00:00Z</td>\n",
       "      <td>10Y1001A1001A83F</td>\n",
       "      <td>MAW</td>\n",
       "      <td>41178</td>\n",
       "    </tr>\n",
       "    <tr>\n",
       "      <th>...</th>\n",
       "      <td>...</td>\n",
       "      <td>...</td>\n",
       "      <td>...</td>\n",
       "      <td>...</td>\n",
       "      <td>...</td>\n",
       "    </tr>\n",
       "    <tr>\n",
       "      <th>35035</th>\n",
       "      <td>2022-12-31T22:30+00:00Z</td>\n",
       "      <td>2022-12-31T22:45+00:00Z</td>\n",
       "      <td>10Y1001A1001A83F</td>\n",
       "      <td>MAW</td>\n",
       "      <td>40417</td>\n",
       "    </tr>\n",
       "    <tr>\n",
       "      <th>35036</th>\n",
       "      <td>2022-12-31T22:45+00:00Z</td>\n",
       "      <td>2022-12-31T23:00+00:00Z</td>\n",
       "      <td>10Y1001A1001A83F</td>\n",
       "      <td>MAW</td>\n",
       "      <td>38883</td>\n",
       "    </tr>\n",
       "    <tr>\n",
       "      <th>35037</th>\n",
       "      <td>2022-12-31T23:00+00:00Z</td>\n",
       "      <td>2022-12-31T23:15+00:00Z</td>\n",
       "      <td>10Y1001A1001A83F</td>\n",
       "      <td>MAW</td>\n",
       "      <td>38565</td>\n",
       "    </tr>\n",
       "    <tr>\n",
       "      <th>35038</th>\n",
       "      <td>2022-12-31T23:15+00:00Z</td>\n",
       "      <td>2022-12-31T23:30+00:00Z</td>\n",
       "      <td>10Y1001A1001A83F</td>\n",
       "      <td>MAW</td>\n",
       "      <td>38438</td>\n",
       "    </tr>\n",
       "    <tr>\n",
       "      <th>35039</th>\n",
       "      <td>2022-12-31T23:30+00:00Z</td>\n",
       "      <td>2022-12-31T23:45+00:00Z</td>\n",
       "      <td>10Y1001A1001A83F</td>\n",
       "      <td>MAW</td>\n",
       "      <td>38260</td>\n",
       "    </tr>\n",
       "  </tbody>\n",
       "</table>\n",
       "<p>35040 rows × 5 columns</p>\n",
       "</div>"
      ],
      "text/plain": [
       "                     StartTime                  EndTime            AreaID  \\\n",
       "0      2021-12-31T23:45+00:00Z  2022-01-01T00:00+00:00Z  10Y1001A1001A83F   \n",
       "1      2022-01-01T00:00+00:00Z  2022-01-01T00:15+00:00Z  10Y1001A1001A83F   \n",
       "2      2022-01-01T00:15+00:00Z  2022-01-01T00:30+00:00Z  10Y1001A1001A83F   \n",
       "3      2022-01-01T00:30+00:00Z  2022-01-01T00:45+00:00Z  10Y1001A1001A83F   \n",
       "4      2022-01-01T00:45+00:00Z  2022-01-01T01:00+00:00Z  10Y1001A1001A83F   \n",
       "...                        ...                      ...               ...   \n",
       "35035  2022-12-31T22:30+00:00Z  2022-12-31T22:45+00:00Z  10Y1001A1001A83F   \n",
       "35036  2022-12-31T22:45+00:00Z  2022-12-31T23:00+00:00Z  10Y1001A1001A83F   \n",
       "35037  2022-12-31T23:00+00:00Z  2022-12-31T23:15+00:00Z  10Y1001A1001A83F   \n",
       "35038  2022-12-31T23:15+00:00Z  2022-12-31T23:30+00:00Z  10Y1001A1001A83F   \n",
       "35039  2022-12-31T23:30+00:00Z  2022-12-31T23:45+00:00Z  10Y1001A1001A83F   \n",
       "\n",
       "      UnitName   Load  \n",
       "0          MAW  42196  \n",
       "1          MAW  41804  \n",
       "2          MAW  41141  \n",
       "3          MAW  41002  \n",
       "4          MAW  41178  \n",
       "...        ...    ...  \n",
       "35035      MAW  40417  \n",
       "35036      MAW  38883  \n",
       "35037      MAW  38565  \n",
       "35038      MAW  38438  \n",
       "35039      MAW  38260  \n",
       "\n",
       "[35040 rows x 5 columns]"
      ]
     },
     "execution_count": 323,
     "metadata": {},
     "output_type": "execute_result"
    }
   ],
   "source": [
    "# Printing a sample\n",
    "sample_load"
   ]
  },
  {
   "cell_type": "code",
   "execution_count": 324,
   "id": "b81fb90d",
   "metadata": {},
   "outputs": [],
   "source": [
    "#Transform the column to datetime data type.\n",
    "sample_load['EndTime'] = sample_load['EndTime'].apply(lambda x: pd.to_datetime(x[:22]))\n",
    "\n",
    "#Transform the column to datetime data type.\n",
    "sample_load['StartTime'] = sample_load['StartTime'].apply(lambda x: pd.to_datetime(x[:22]))"
   ]
  },
  {
   "cell_type": "markdown",
   "id": "b38f3093",
   "metadata": {},
   "source": [
    "For the load values we are going to resample to one hour"
   ]
  },
  {
   "cell_type": "code",
   "execution_count": 344,
   "id": "4f86cce8",
   "metadata": {},
   "outputs": [],
   "source": [
    "# Numerical Columns\n",
    "numeric_cols = sample_load.select_dtypes(include=['number'])\n",
    "\n",
    "# Categorical Columns\n",
    "categorical_cols = sample_load.select_dtypes(exclude=['number', 'datetime64[ns]', 'bool'])"
   ]
  },
  {
   "cell_type": "markdown",
   "id": "1dc2b511",
   "metadata": {},
   "source": [
    "Using sum for numerical columns and last to sample categoricals"
   ]
  },
  {
   "cell_type": "code",
   "execution_count": 346,
   "id": "f80da2c5",
   "metadata": {},
   "outputs": [],
   "source": [
    "# Resample by hour numerical\n",
    "resampled_df_num = numeric_cols.resample('H').sum()\n",
    "\n",
    "# Resample by hour categorical\n",
    "resampled_df_cat= categorical_cols.resample('H').last()"
   ]
  },
  {
   "cell_type": "code",
   "execution_count": 347,
   "id": "eefedfd9",
   "metadata": {},
   "outputs": [],
   "source": [
    "# Resample the numeric columns and sum\n",
    "resampled_df_num = numeric_cols.resample('H').sum()"
   ]
  },
  {
   "cell_type": "code",
   "execution_count": 348,
   "id": "1f6e7aa8",
   "metadata": {},
   "outputs": [],
   "source": [
    "# Resample the categorical columns.\n",
    "resampled_df_cat= categorical_cols.resample('H').last()"
   ]
  },
  {
   "cell_type": "code",
   "execution_count": 351,
   "id": "77bf0bff",
   "metadata": {},
   "outputs": [],
   "source": [
    "# Concat\n",
    "resampled_df = pd.concat([resampled_df_num, resampled_df_cat], axis=1)"
   ]
  },
  {
   "cell_type": "markdown",
   "id": "7348c90f",
   "metadata": {},
   "source": [
    "Resultant dataframe"
   ]
  },
  {
   "cell_type": "code",
   "execution_count": 350,
   "id": "a458ad4e",
   "metadata": {},
   "outputs": [
    {
     "data": {
      "text/html": [
       "<div>\n",
       "<style scoped>\n",
       "    .dataframe tbody tr th:only-of-type {\n",
       "        vertical-align: middle;\n",
       "    }\n",
       "\n",
       "    .dataframe tbody tr th {\n",
       "        vertical-align: top;\n",
       "    }\n",
       "\n",
       "    .dataframe thead th {\n",
       "        text-align: right;\n",
       "    }\n",
       "</style>\n",
       "<table border=\"1\" class=\"dataframe\">\n",
       "  <thead>\n",
       "    <tr style=\"text-align: right;\">\n",
       "      <th></th>\n",
       "      <th>Load</th>\n",
       "      <th>StartTime</th>\n",
       "      <th>AreaID</th>\n",
       "      <th>UnitName</th>\n",
       "    </tr>\n",
       "    <tr>\n",
       "      <th>EndTime</th>\n",
       "      <th></th>\n",
       "      <th></th>\n",
       "      <th></th>\n",
       "      <th></th>\n",
       "    </tr>\n",
       "  </thead>\n",
       "  <tbody>\n",
       "    <tr>\n",
       "      <th>2022-01-01 00:00:00+00:00</th>\n",
       "      <td>166143</td>\n",
       "      <td>2022-01-01 00:30:00+00:00</td>\n",
       "      <td>10Y1001A1001A83F</td>\n",
       "      <td>MAW</td>\n",
       "    </tr>\n",
       "    <tr>\n",
       "      <th>2022-01-01 01:00:00+00:00</th>\n",
       "      <td>161923</td>\n",
       "      <td>2022-01-01 01:30:00+00:00</td>\n",
       "      <td>10Y1001A1001A83F</td>\n",
       "      <td>MAW</td>\n",
       "    </tr>\n",
       "    <tr>\n",
       "      <th>2022-01-01 02:00:00+00:00</th>\n",
       "      <td>158256</td>\n",
       "      <td>2022-01-01 02:30:00+00:00</td>\n",
       "      <td>10Y1001A1001A83F</td>\n",
       "      <td>MAW</td>\n",
       "    </tr>\n",
       "    <tr>\n",
       "      <th>2022-01-01 03:00:00+00:00</th>\n",
       "      <td>157353</td>\n",
       "      <td>2022-01-01 03:30:00+00:00</td>\n",
       "      <td>10Y1001A1001A83F</td>\n",
       "      <td>MAW</td>\n",
       "    </tr>\n",
       "    <tr>\n",
       "      <th>2022-01-01 04:00:00+00:00</th>\n",
       "      <td>155306</td>\n",
       "      <td>2022-01-01 04:30:00+00:00</td>\n",
       "      <td>10Y1001A1001A83F</td>\n",
       "      <td>MAW</td>\n",
       "    </tr>\n",
       "    <tr>\n",
       "      <th>...</th>\n",
       "      <td>...</td>\n",
       "      <td>...</td>\n",
       "      <td>...</td>\n",
       "      <td>...</td>\n",
       "    </tr>\n",
       "    <tr>\n",
       "      <th>2022-12-31 19:00:00+00:00</th>\n",
       "      <td>186981</td>\n",
       "      <td>2022-12-31 19:30:00+00:00</td>\n",
       "      <td>10Y1001A1001A83F</td>\n",
       "      <td>MAW</td>\n",
       "    </tr>\n",
       "    <tr>\n",
       "      <th>2022-12-31 20:00:00+00:00</th>\n",
       "      <td>177090</td>\n",
       "      <td>2022-12-31 20:30:00+00:00</td>\n",
       "      <td>10Y1001A1001A83F</td>\n",
       "      <td>MAW</td>\n",
       "    </tr>\n",
       "    <tr>\n",
       "      <th>2022-12-31 21:00:00+00:00</th>\n",
       "      <td>170863</td>\n",
       "      <td>2022-12-31 21:30:00+00:00</td>\n",
       "      <td>10Y1001A1001A83F</td>\n",
       "      <td>MAW</td>\n",
       "    </tr>\n",
       "    <tr>\n",
       "      <th>2022-12-31 22:00:00+00:00</th>\n",
       "      <td>163983</td>\n",
       "      <td>2022-12-31 22:30:00+00:00</td>\n",
       "      <td>10Y1001A1001A83F</td>\n",
       "      <td>MAW</td>\n",
       "    </tr>\n",
       "    <tr>\n",
       "      <th>2022-12-31 23:00:00+00:00</th>\n",
       "      <td>154146</td>\n",
       "      <td>2022-12-31 23:30:00+00:00</td>\n",
       "      <td>10Y1001A1001A83F</td>\n",
       "      <td>MAW</td>\n",
       "    </tr>\n",
       "  </tbody>\n",
       "</table>\n",
       "<p>8760 rows × 4 columns</p>\n",
       "</div>"
      ],
      "text/plain": [
       "                             Load                 StartTime            AreaID  \\\n",
       "EndTime                                                                         \n",
       "2022-01-01 00:00:00+00:00  166143 2022-01-01 00:30:00+00:00  10Y1001A1001A83F   \n",
       "2022-01-01 01:00:00+00:00  161923 2022-01-01 01:30:00+00:00  10Y1001A1001A83F   \n",
       "2022-01-01 02:00:00+00:00  158256 2022-01-01 02:30:00+00:00  10Y1001A1001A83F   \n",
       "2022-01-01 03:00:00+00:00  157353 2022-01-01 03:30:00+00:00  10Y1001A1001A83F   \n",
       "2022-01-01 04:00:00+00:00  155306 2022-01-01 04:30:00+00:00  10Y1001A1001A83F   \n",
       "...                           ...                       ...               ...   \n",
       "2022-12-31 19:00:00+00:00  186981 2022-12-31 19:30:00+00:00  10Y1001A1001A83F   \n",
       "2022-12-31 20:00:00+00:00  177090 2022-12-31 20:30:00+00:00  10Y1001A1001A83F   \n",
       "2022-12-31 21:00:00+00:00  170863 2022-12-31 21:30:00+00:00  10Y1001A1001A83F   \n",
       "2022-12-31 22:00:00+00:00  163983 2022-12-31 22:30:00+00:00  10Y1001A1001A83F   \n",
       "2022-12-31 23:00:00+00:00  154146 2022-12-31 23:30:00+00:00  10Y1001A1001A83F   \n",
       "\n",
       "                          UnitName  \n",
       "EndTime                             \n",
       "2022-01-01 00:00:00+00:00      MAW  \n",
       "2022-01-01 01:00:00+00:00      MAW  \n",
       "2022-01-01 02:00:00+00:00      MAW  \n",
       "2022-01-01 03:00:00+00:00      MAW  \n",
       "2022-01-01 04:00:00+00:00      MAW  \n",
       "...                            ...  \n",
       "2022-12-31 19:00:00+00:00      MAW  \n",
       "2022-12-31 20:00:00+00:00      MAW  \n",
       "2022-12-31 21:00:00+00:00      MAW  \n",
       "2022-12-31 22:00:00+00:00      MAW  \n",
       "2022-12-31 23:00:00+00:00      MAW  \n",
       "\n",
       "[8760 rows x 4 columns]"
      ]
     },
     "execution_count": 350,
     "metadata": {},
     "output_type": "execute_result"
    }
   ],
   "source": [
    "resampled_df"
   ]
  },
  {
   "cell_type": "code",
   "execution_count": 354,
   "id": "34ec56d1",
   "metadata": {},
   "outputs": [
    {
     "data": {
      "image/png": "[encoded data removed]",
      "text/plain": [
       "<Figure size 1200x600 with 1 Axes>"
      ]
     },
     "metadata": {},
     "output_type": "display_data"
    }
   ],
   "source": [
    "# Figure size\n",
    "fig, ax = plt.subplots(figsize=(12, 6))\n",
    "\n",
    "ax.plot(resampled_df.index, resampled_df['Load'], label='Load')\n",
    "\n",
    "# Add grid lines\n",
    "ax.grid(True, linestyle='--', alpha=0.7)\n",
    "\n",
    "# Set ticks\n",
    "plt.xticks(rotation=45)  # Rotate x-axis labels for better visibility\n",
    "\n",
    "# Add labels and title\n",
    "ax.set_xlabel('Date and Hour')\n",
    "ax.set_ylabel('Amount Consumed (MAW)')\n",
    "ax.set_title('Denmark Energy Consumed')\n",
    "\n",
    "# Add legend\n",
    "ax.legend()\n",
    "\n",
    "# Show the plot\n",
    "plt.show()\n"
   ]
  }
 ],
 "metadata": {
  "kernelspec": {
   "display_name": "Python 3 (ipykernel)",
   "language": "python",
   "name": "python3"
  },
  "language_info": {
   "codemirror_mode": {
    "name": "ipython",
    "version": 3
   },
   "file_extension": ".py",
   "mimetype": "text/x-python",
   "name": "python",
   "nbconvert_exporter": "python",
   "pygments_lexer": "ipython3",
   "version": "3.11.5"
  }
 },
 "nbformat": 4,
 "nbformat_minor": 5
}
