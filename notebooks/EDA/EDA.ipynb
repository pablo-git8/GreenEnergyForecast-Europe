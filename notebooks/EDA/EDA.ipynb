{
 "cells": [
  {
   "cell_type": "markdown",
   "metadata": {},
   "source": [
    "# Exploratory Data Analysis (EDA)"
   ]
  },
  {
   "cell_type": "markdown",
   "metadata": {},
   "source": [
    "Given that we have a DataFrame indexed by datetime, with columns for end time, unit name, PSR type, and quantity. The goal is to forecast the 'surplus' and develop an ARIMA model for that. Let's recap on the steps we need for this goal:\n",
    "\n",
    "### Steps for Forecasting\n",
    "\n",
    "#### 1. Data Preprocessing (Done in Data Wrangling)\n",
    "- **Convert 'EndTime' to DateTime**: Convert the 'StartTime' column to a datetime object.\n",
    "- **Set 'EndTime' as Index**: Set 'EndTime' as the DataFrame index for easier time series analysis.\n",
    "- **Check for Missing Dates**: Ensure that all dates and times are represented. If there are missing intervals, decide how to handle them (e.g., filling with NaNs).\n",
    "- **Aggregating Data**: Depending on the granularity you need, you might consider aggregating your data (e.g., daily average). In this case, the resample is done by hour. \n",
    "\n",
    "#### `2. Exploratory Data Analysis (In this notebook)`\n",
    "- **Plotting the Series**: Visualize the 'surplus' over time to understand patterns, trends, and seasonality.\n",
    "- **Seasonality and Trend Analysis**: Check if there is any visible seasonality or trend in the data which might influence the choice of the model.\n",
    "\n",
    "#### 3. Model Selection\n",
    "Given the nature of your data, you might consider the following models:\n",
    "- **ARIMA/SARIMA**: If your data shows trends or autocorrelation. SARIMA is suitable if there is a clear seasonal pattern.\n",
    "- **Prophet**: Handles daily data well, robust to missing data, and good with seasonality.\n",
    "- **Machine Learning Approaches**: If there are other factors that can predict 'quantity', a model like Random Forest or Gradient Boosting might be useful.\n",
    "\n",
    "#### 4. Model Training and Forecasting\n",
    "- **Training**: Use data from January to April and October to December.\n",
    "- **Forecasting**: Generate predictions for the missing months.\n",
    "- **Hyperparameter Tuning**: Optimize model parameters for best performance.\n",
    "\n",
    "#### 5. Model Evaluation\n",
    "- **Performance Metrics**: Evaluate the model using appropriate metrics.\n",
    "- **Cross-Validation**: If possible, use time series cross-validation."
   ]
  },
  {
   "cell_type": "code",
   "execution_count": 1,
   "metadata": {},
   "outputs": [],
   "source": [
    "# Imports\n",
    "import pandas as pd\n",
    "from ydata_profiling import ProfileReport\n",
    "import matplotlib.pyplot as plt\n",
    "#import seaborn as sns\n",
    "#import numpy as np\n",
    "#import statsmodels.api as sm\n",
    "from statsmodels.tsa.arima.model import ARIMA\n",
    "\n",
    "import statsmodels.api as sm\n",
    "from statsmodels.tsa.stattools import adfuller#, acf, pacf\n",
    "from statsmodels.graphics.tsaplots import plot_acf, plot_pacf\n",
    "from statsmodels.tsa.seasonal import seasonal_decompose\n",
    "from statsmodels.tsa.statespace.sarimax import SARIMAX\n",
    "\n",
    "# Magic commands \n",
    "%matplotlib inline"
   ]
  },
  {
   "cell_type": "markdown",
   "metadata": {},
   "source": [
    "Reading Data Wrangling output"
   ]
  },
  {
   "cell_type": "code",
   "execution_count": 2,
   "metadata": {},
   "outputs": [],
   "source": [
    "# Parsing date strings, ignoring any timezone information and converting them to datetime objects\n",
    "date_parser = lambda x: pd.to_datetime(x[:22])\n",
    "eda_df = pd.read_csv(\"../2_data_wrangling/data_wrangling_output.csv\", \n",
    "                     converters={'EndTime': date_parser}).set_index('EndTime')"
   ]
  },
  {
   "cell_type": "markdown",
   "metadata": {},
   "source": [
    "Basic Data Inspection"
   ]
  },
  {
   "cell_type": "code",
   "execution_count": 3,
   "metadata": {},
   "outputs": [
    {
     "data": {
      "text/html": [
       "<div>\n",
       "<style scoped>\n",
       "    .dataframe tbody tr th:only-of-type {\n",
       "        vertical-align: middle;\n",
       "    }\n",
       "\n",
       "    .dataframe tbody tr th {\n",
       "        vertical-align: top;\n",
       "    }\n",
       "\n",
       "    .dataframe thead th {\n",
       "        text-align: right;\n",
       "    }\n",
       "</style>\n",
       "<table border=\"1\" class=\"dataframe\">\n",
       "  <thead>\n",
       "    <tr style=\"text-align: right;\">\n",
       "      <th></th>\n",
       "      <th>country_code</th>\n",
       "      <th>quantity_sum</th>\n",
       "      <th>Load</th>\n",
       "      <th>surplus</th>\n",
       "    </tr>\n",
       "    <tr>\n",
       "      <th>EndTime</th>\n",
       "      <th></th>\n",
       "      <th></th>\n",
       "      <th></th>\n",
       "      <th></th>\n",
       "    </tr>\n",
       "  </thead>\n",
       "  <tbody>\n",
       "    <tr>\n",
       "      <th>2022-01-01 00:00:00+00:00</th>\n",
       "      <td>DE</td>\n",
       "      <td>146300.0</td>\n",
       "      <td>166143</td>\n",
       "      <td>-19843.0</td>\n",
       "    </tr>\n",
       "    <tr>\n",
       "      <th>2022-01-01 01:00:00+00:00</th>\n",
       "      <td>DE</td>\n",
       "      <td>140324.0</td>\n",
       "      <td>161923</td>\n",
       "      <td>-21599.0</td>\n",
       "    </tr>\n",
       "    <tr>\n",
       "      <th>2022-01-01 02:00:00+00:00</th>\n",
       "      <td>DE</td>\n",
       "      <td>134063.0</td>\n",
       "      <td>158256</td>\n",
       "      <td>-24193.0</td>\n",
       "    </tr>\n",
       "    <tr>\n",
       "      <th>2022-01-01 03:00:00+00:00</th>\n",
       "      <td>DE</td>\n",
       "      <td>128745.0</td>\n",
       "      <td>157353</td>\n",
       "      <td>-28608.0</td>\n",
       "    </tr>\n",
       "    <tr>\n",
       "      <th>2022-01-01 04:00:00+00:00</th>\n",
       "      <td>DE</td>\n",
       "      <td>120346.0</td>\n",
       "      <td>155306</td>\n",
       "      <td>-34960.0</td>\n",
       "    </tr>\n",
       "  </tbody>\n",
       "</table>\n",
       "</div>"
      ],
      "text/plain": [
       "                          country_code  quantity_sum    Load  surplus\n",
       "EndTime                                                              \n",
       "2022-01-01 00:00:00+00:00           DE      146300.0  166143 -19843.0\n",
       "2022-01-01 01:00:00+00:00           DE      140324.0  161923 -21599.0\n",
       "2022-01-01 02:00:00+00:00           DE      134063.0  158256 -24193.0\n",
       "2022-01-01 03:00:00+00:00           DE      128745.0  157353 -28608.0\n",
       "2022-01-01 04:00:00+00:00           DE      120346.0  155306 -34960.0"
      ]
     },
     "execution_count": 3,
     "metadata": {},
     "output_type": "execute_result"
    }
   ],
   "source": [
    "eda_df.head()"
   ]
  },
  {
   "cell_type": "code",
   "execution_count": 4,
   "metadata": {},
   "outputs": [
    {
     "name": "stdout",
     "output_type": "stream",
     "text": [
      "<class 'pandas.core.frame.DataFrame'>\n",
      "DatetimeIndex: 67889 entries, 2022-01-01 00:00:00+00:00 to 2022-12-31 23:00:00+00:00\n",
      "Data columns (total 4 columns):\n",
      " #   Column        Non-Null Count  Dtype  \n",
      "---  ------        --------------  -----  \n",
      " 0   country_code  67889 non-null  object \n",
      " 1   quantity_sum  67889 non-null  float64\n",
      " 2   Load          67889 non-null  int64  \n",
      " 3   surplus       67889 non-null  float64\n",
      "dtypes: float64(2), int64(1), object(1)\n",
      "memory usage: 2.6+ MB\n"
     ]
    }
   ],
   "source": [
    "eda_df.info()"
   ]
  },
  {
   "cell_type": "markdown",
   "metadata": {},
   "source": [
    "| Variable Name | Description                            | Non-Null Count | Data Type |\n",
    "|---------------|----------------------------------------|----------------|-----------|\n",
    "| **`Index`**     | Date and time (hourly)                 | 67889          | datetime  |\n",
    "| `country_code`  | Identifier for the country             | 67889          | object    |\n",
    "| `quantity_sum`  | Sum of quantities                      | 67889          | float64   |\n",
    "| `Load`          | Load value                             | 67889          | int64     |\n",
    "| `surplus`       | Energy surplus value                          | 67889          | float64   |"
   ]
  },
  {
   "cell_type": "code",
   "execution_count": 5,
   "metadata": {},
   "outputs": [],
   "source": [
    "# JSON of country codes for mapping\n",
    "countries_dict = {\n",
    "    \"SP\": 0,  # Spain\n",
    "    \"UK\": 1,  # United Kingdom\n",
    "    \"DE\": 2,  # Germany\n",
    "    \"DK\": 3,  # Denmark\n",
    "    \"HU\": 5,  # Hungary\n",
    "    \"SE\": 4,  # Sweden\n",
    "    \"IT\": 6,  # Italy\n",
    "    \"PO\": 7,  # Poland\n",
    "    \"NE\": 8   # Netherlands\n",
    "}"
   ]
  },
  {
   "cell_type": "code",
   "execution_count": 6,
   "metadata": {},
   "outputs": [
    {
     "data": {
      "text/plain": [
       "array(['DE', 'NE', 'DK', 'HU', 'SP', 'IT', 'SE', 'UK', 'PO'], dtype=object)"
      ]
     },
     "execution_count": 6,
     "metadata": {},
     "output_type": "execute_result"
    }
   ],
   "source": [
    "eda_df['country_code'].unique()"
   ]
  },
  {
   "cell_type": "code",
   "execution_count": 7,
   "metadata": {},
   "outputs": [],
   "source": [
    "# Map the energy type codes to full names\n",
    "eda_df['CountryLabel'] = eda_df['country_code'].map(countries_dict)"
   ]
  },
  {
   "cell_type": "code",
   "execution_count": 8,
   "metadata": {},
   "outputs": [
    {
     "name": "stdout",
     "output_type": "stream",
     "text": [
      "<class 'pandas.core.frame.DataFrame'>\n",
      "DatetimeIndex: 67889 entries, 2022-01-01 00:00:00+00:00 to 2022-12-31 23:00:00+00:00\n",
      "Data columns (total 5 columns):\n",
      " #   Column        Non-Null Count  Dtype  \n",
      "---  ------        --------------  -----  \n",
      " 0   country_code  67889 non-null  object \n",
      " 1   quantity_sum  67889 non-null  float64\n",
      " 2   Load          67889 non-null  int64  \n",
      " 3   surplus       67889 non-null  float64\n",
      " 4   CountryLabel  67889 non-null  int64  \n",
      "dtypes: float64(2), int64(2), object(1)\n",
      "memory usage: 3.1+ MB\n"
     ]
    }
   ],
   "source": [
    "eda_df.info()"
   ]
  },
  {
   "cell_type": "code",
   "execution_count": 9,
   "metadata": {},
   "outputs": [
    {
     "data": {
      "text/html": [
       "<div>\n",
       "<style scoped>\n",
       "    .dataframe tbody tr th:only-of-type {\n",
       "        vertical-align: middle;\n",
       "    }\n",
       "\n",
       "    .dataframe tbody tr th {\n",
       "        vertical-align: top;\n",
       "    }\n",
       "\n",
       "    .dataframe thead th {\n",
       "        text-align: right;\n",
       "    }\n",
       "</style>\n",
       "<table border=\"1\" class=\"dataframe\">\n",
       "  <thead>\n",
       "    <tr style=\"text-align: right;\">\n",
       "      <th></th>\n",
       "      <th>country_code</th>\n",
       "      <th>quantity_sum</th>\n",
       "      <th>Load</th>\n",
       "      <th>surplus</th>\n",
       "      <th>CountryLabel</th>\n",
       "    </tr>\n",
       "    <tr>\n",
       "      <th>EndTime</th>\n",
       "      <th></th>\n",
       "      <th></th>\n",
       "      <th></th>\n",
       "      <th></th>\n",
       "      <th></th>\n",
       "    </tr>\n",
       "  </thead>\n",
       "  <tbody>\n",
       "    <tr>\n",
       "      <th>2022-01-01 00:00:00+00:00</th>\n",
       "      <td>DE</td>\n",
       "      <td>146300.0</td>\n",
       "      <td>166143</td>\n",
       "      <td>-19843.0</td>\n",
       "      <td>2</td>\n",
       "    </tr>\n",
       "    <tr>\n",
       "      <th>2022-01-01 01:00:00+00:00</th>\n",
       "      <td>DE</td>\n",
       "      <td>140324.0</td>\n",
       "      <td>161923</td>\n",
       "      <td>-21599.0</td>\n",
       "      <td>2</td>\n",
       "    </tr>\n",
       "    <tr>\n",
       "      <th>2022-01-01 02:00:00+00:00</th>\n",
       "      <td>DE</td>\n",
       "      <td>134063.0</td>\n",
       "      <td>158256</td>\n",
       "      <td>-24193.0</td>\n",
       "      <td>2</td>\n",
       "    </tr>\n",
       "    <tr>\n",
       "      <th>2022-01-01 03:00:00+00:00</th>\n",
       "      <td>DE</td>\n",
       "      <td>128745.0</td>\n",
       "      <td>157353</td>\n",
       "      <td>-28608.0</td>\n",
       "      <td>2</td>\n",
       "    </tr>\n",
       "    <tr>\n",
       "      <th>2022-01-01 04:00:00+00:00</th>\n",
       "      <td>DE</td>\n",
       "      <td>120346.0</td>\n",
       "      <td>155306</td>\n",
       "      <td>-34960.0</td>\n",
       "      <td>2</td>\n",
       "    </tr>\n",
       "  </tbody>\n",
       "</table>\n",
       "</div>"
      ],
      "text/plain": [
       "                          country_code  quantity_sum    Load  surplus  \\\n",
       "EndTime                                                                 \n",
       "2022-01-01 00:00:00+00:00           DE      146300.0  166143 -19843.0   \n",
       "2022-01-01 01:00:00+00:00           DE      140324.0  161923 -21599.0   \n",
       "2022-01-01 02:00:00+00:00           DE      134063.0  158256 -24193.0   \n",
       "2022-01-01 03:00:00+00:00           DE      128745.0  157353 -28608.0   \n",
       "2022-01-01 04:00:00+00:00           DE      120346.0  155306 -34960.0   \n",
       "\n",
       "                           CountryLabel  \n",
       "EndTime                                  \n",
       "2022-01-01 00:00:00+00:00             2  \n",
       "2022-01-01 01:00:00+00:00             2  \n",
       "2022-01-01 02:00:00+00:00             2  \n",
       "2022-01-01 03:00:00+00:00             2  \n",
       "2022-01-01 04:00:00+00:00             2  "
      ]
     },
     "execution_count": 9,
     "metadata": {},
     "output_type": "execute_result"
    }
   ],
   "source": [
    "eda_df.head()"
   ]
  },
  {
   "cell_type": "markdown",
   "metadata": {},
   "source": [
    "Basic Data Profiling"
   ]
  },
  {
   "cell_type": "code",
   "execution_count": 10,
   "metadata": {},
   "outputs": [
    {
     "data": {
      "application/vnd.jupyter.widget-view+json": {
       "model_id": "5c9812b90fba45dfa947c705ede7b02d",
       "version_major": 2,
       "version_minor": 0
      },
      "text/plain": [
       "Summarize dataset:   0%|          | 0/5 [00:00<?, ?it/s]"
      ]
     },
     "metadata": {},
     "output_type": "display_data"
    },
    {
     "name": "stderr",
     "output_type": "stream",
     "text": [
      "c:\\Users\\pablo\\.conda\\envs\\python311\\Lib\\site-packages\\ydata_profiling\\model\\correlations.py:66: UserWarning: There was an attempt to calculate the auto correlation, but this failed.\n",
      "To hide this warning, disable the calculation\n",
      "(using `df.profile_report(correlations={\"auto\": {\"calculate\": False}})`\n",
      "If this is problematic for your use case, please report this as an issue:\n",
      "https://github.com/ydataai/ydata-profiling/issues\n",
      "(include the error message: 'cannot reindex on an axis with duplicate labels')\n",
      "  warnings.warn(\n"
     ]
    },
    {
     "data": {
      "application/vnd.jupyter.widget-view+json": {
       "model_id": "36c5a888008f457692fe67f6eabb0a82",
       "version_major": 2,
       "version_minor": 0
      },
      "text/plain": [
       "Generate report structure:   0%|          | 0/1 [00:00<?, ?it/s]"
      ]
     },
     "metadata": {},
     "output_type": "display_data"
    },
    {
     "data": {
      "application/vnd.jupyter.widget-view+json": {
       "model_id": "1878e6476b3041d5bb4ff56e489ca69d",
       "version_major": 2,
       "version_minor": 0
      },
      "text/plain": [
       "Render widgets:   0%|          | 0/1 [00:00<?, ?it/s]"
      ]
     },
     "metadata": {},
     "output_type": "display_data"
    },
    {
     "data": {
      "application/vnd.jupyter.widget-view+json": {
       "model_id": "924cfcdc92ef41dbbf188afb6c449aec",
       "version_major": 2,
       "version_minor": 0
      },
      "text/plain": [
       "VBox(children=(Tab(children=(Tab(children=(GridBox(children=(VBox(children=(GridspecLayout(children=(HTML(valu…"
      ]
     },
     "metadata": {},
     "output_type": "display_data"
    },
    {
     "data": {
      "application/vnd.jupyter.widget-view+json": {
       "model_id": "25982d73f88e4717a199808b370b4b03",
       "version_major": 2,
       "version_minor": 0
      },
      "text/plain": [
       "Render HTML:   0%|          | 0/1 [00:00<?, ?it/s]"
      ]
     },
     "metadata": {},
     "output_type": "display_data"
    },
    {
     "data": {
      "application/vnd.jupyter.widget-view+json": {
       "model_id": "fc9b90716dd34e1cb327241b564b3099",
       "version_major": 2,
       "version_minor": 0
      },
      "text/plain": [
       "Export report to file:   0%|          | 0/1 [00:00<?, ?it/s]"
      ]
     },
     "metadata": {},
     "output_type": "display_data"
    }
   ],
   "source": [
    "# Creating the data profiling\n",
    "profile = ProfileReport(eda_df, title=\"Profiling Report\")\n",
    "\n",
    "profile.to_widgets() # Displaying the profile in the Jupyter notebook\n",
    "profile.to_file(\"eda_df_profiling_output.html\") # Saving the profiling in an html file"
   ]
  },
  {
   "cell_type": "code",
   "execution_count": 11,
   "metadata": {},
   "outputs": [
    {
     "name": "stdout",
     "output_type": "stream",
     "text": [
      "                          country_code  quantity_sum   Load  surplus  \\\n",
      "EndTime                                                                \n",
      "2022-03-05 07:00:00+00:00           DK        1687.0   4225  -2538.0   \n",
      "2022-05-03 17:00:00+00:00           DK        1278.0   4189  -2911.0   \n",
      "2022-05-08 03:00:00+00:00           DK        2006.0   2763   -757.0   \n",
      "2022-09-19 01:00:00+00:00           DK        2006.0   2763   -757.0   \n",
      "2022-09-22 06:00:00+00:00           DK        1278.0   4189  -2911.0   \n",
      "2022-09-28 04:00:00+00:00           DK        1235.0   3616  -2381.0   \n",
      "2022-10-28 05:00:00+00:00           DK        1687.0   4225  -2538.0   \n",
      "2022-11-13 13:00:00+00:00           DK        1235.0   3616  -2381.0   \n",
      "2022-06-06 22:00:00+00:00           HU         612.0  15062 -14450.0   \n",
      "2022-12-24 23:00:00+00:00           HU         612.0  15062 -14450.0   \n",
      "2022-01-02 22:00:00+00:00           SP        7700.0  24535 -16835.0   \n",
      "2022-04-28 04:00:00+00:00           SP        7700.0  24535 -16835.0   \n",
      "2022-07-26 02:00:00+00:00           SE        8917.0  10212  -1295.0   \n",
      "2022-10-15 02:00:00+00:00           SE        8917.0  10212  -1295.0   \n",
      "2022-02-08 13:00:00+00:00           UK        1090.0   2264  -1174.0   \n",
      "2022-02-08 16:00:00+00:00           UK        1090.0   2264  -1174.0   \n",
      "\n",
      "                           CountryLabel  \n",
      "EndTime                                  \n",
      "2022-03-05 07:00:00+00:00             3  \n",
      "2022-05-03 17:00:00+00:00             3  \n",
      "2022-05-08 03:00:00+00:00             3  \n",
      "2022-09-19 01:00:00+00:00             3  \n",
      "2022-09-22 06:00:00+00:00             3  \n",
      "2022-09-28 04:00:00+00:00             3  \n",
      "2022-10-28 05:00:00+00:00             3  \n",
      "2022-11-13 13:00:00+00:00             3  \n",
      "2022-06-06 22:00:00+00:00             5  \n",
      "2022-12-24 23:00:00+00:00             5  \n",
      "2022-01-02 22:00:00+00:00             0  \n",
      "2022-04-28 04:00:00+00:00             0  \n",
      "2022-07-26 02:00:00+00:00             4  \n",
      "2022-10-15 02:00:00+00:00             4  \n",
      "2022-02-08 13:00:00+00:00             1  \n",
      "2022-02-08 16:00:00+00:00             1  \n"
     ]
    }
   ],
   "source": [
    "# Finding duplicate rows\n",
    "duplicates = eda_df.duplicated(keep=False) # 'keep=False' marks all duplicates as True\n",
    "\n",
    "# Displaying duplicate rows\n",
    "duplicate_rows = eda_df[duplicates]\n",
    "print(duplicate_rows)"
   ]
  },
  {
   "cell_type": "markdown",
   "metadata": {},
   "source": [
    "Dropping Duplicates"
   ]
  },
  {
   "cell_type": "code",
   "execution_count": 12,
   "metadata": {},
   "outputs": [],
   "source": [
    "eda_df = eda_df.drop_duplicates()"
   ]
  },
  {
   "cell_type": "code",
   "execution_count": 13,
   "metadata": {},
   "outputs": [
    {
     "name": "stdout",
     "output_type": "stream",
     "text": [
      "Empty DataFrame\n",
      "Columns: [country_code, quantity_sum, Load, surplus, CountryLabel]\n",
      "Index: []\n"
     ]
    }
   ],
   "source": [
    "# Finding duplicate rows\n",
    "duplicates = eda_df.duplicated(keep=False) # 'keep=False' marks all duplicates as True\n",
    "\n",
    "# Displaying duplicate rows\n",
    "duplicate_rows = eda_df[duplicates]\n",
    "print(duplicate_rows)"
   ]
  },
  {
   "cell_type": "code",
   "execution_count": 14,
   "metadata": {},
   "outputs": [
    {
     "name": "stdout",
     "output_type": "stream",
     "text": [
      "<class 'pandas.core.frame.DataFrame'>\n",
      "DatetimeIndex: 67881 entries, 2022-01-01 00:00:00+00:00 to 2022-12-31 23:00:00+00:00\n",
      "Data columns (total 5 columns):\n",
      " #   Column        Non-Null Count  Dtype  \n",
      "---  ------        --------------  -----  \n",
      " 0   country_code  67881 non-null  object \n",
      " 1   quantity_sum  67881 non-null  float64\n",
      " 2   Load          67881 non-null  int64  \n",
      " 3   surplus       67881 non-null  float64\n",
      " 4   CountryLabel  67881 non-null  int64  \n",
      "dtypes: float64(2), int64(2), object(1)\n",
      "memory usage: 3.1+ MB\n"
     ]
    }
   ],
   "source": [
    "eda_df.info()"
   ]
  },
  {
   "cell_type": "code",
   "execution_count": 15,
   "metadata": {},
   "outputs": [],
   "source": [
    "# Saving csv file for EDA and modeling\n",
    "eda_df.to_csv('eda_output.csv')"
   ]
  }
 ],
 "metadata": {
  "kernelspec": {
   "display_name": "Python 3 (ipykernel)",
   "language": "python",
   "name": "python3"
  },
  "language_info": {
   "codemirror_mode": {
    "name": "ipython",
    "version": 3
   },
   "file_extension": ".py",
   "mimetype": "text/x-python",
   "name": "python",
   "nbconvert_exporter": "python",
   "pygments_lexer": "ipython3",
   "version": "3.11.4"
  }
 },
 "nbformat": 4,
 "nbformat_minor": 2
}
